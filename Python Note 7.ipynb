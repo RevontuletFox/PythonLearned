{
 "cells": [
  {
   "cell_type": "code",
   "execution_count": null,
   "metadata": {},
   "outputs": [],
   "source": [
    "n = int(input())\n",
    "s = 0.0\n",
    "for i in range(n):\n",
    "    t = int(input())\n",
    "    s = s + 0.1\n",
    "    while t > 70:\n",
    "        t = t - 70\n",
    "        s = s + 0.1\n",
    "print(s)\n",
    "#wrong answer"
   ]
  },
  {
   "cell_type": "code",
   "execution_count": null,
   "metadata": {},
   "outputs": [],
   "source": [
    "n = int(input())\n",
    "s = 0.0\n",
    "for i in range(n):\n",
    "    t = int(input())\n",
    "    s = s + 0.1\n",
    "    while t > 70:\n",
    "        t = t - 70\n",
    "        s = s + 0.1\n",
    "print(\"%.1f\" % s)"
   ]
  },
  {
   "cell_type": "code",
   "execution_count": 1,
   "metadata": {},
   "outputs": [
    {
     "data": {
      "text/plain": [
       "-100000000"
      ]
     },
     "execution_count": 1,
     "metadata": {},
     "output_type": "execute_result"
    }
   ],
   "source": [
    "int(-100000000)"
   ]
  },
  {
   "cell_type": "code",
   "execution_count": 2,
   "metadata": {},
   "outputs": [
    {
     "data": {
      "text/plain": [
       "1000000"
      ]
     },
     "execution_count": 2,
     "metadata": {},
     "output_type": "execute_result"
    }
   ],
   "source": [
    "int(+1000000)"
   ]
  },
  {
   "cell_type": "code",
   "execution_count": 17,
   "metadata": {},
   "outputs": [],
   "source": [
    "def fn(p):\n",
    "    p = list(p)\n",
    "    if p[0] == '-':\n",
    "        del p[0]\n",
    "        sign = 1\n",
    "    else:\n",
    "        sign = 0\n",
    "    while (p[0] == '0' or p[0] == '+') and len(p) != 1:\n",
    "        del p[0]\n",
    "    if sign == 0:\n",
    "        return int(''.join(p))\n",
    "    else:\n",
    "        return -int(''.join(p))\n",
    "n = int(input()); d = {}; l = []; i = 1\n",
    "while i <= n:\n",
    "    temp = input()\n",
    "    if temp != '':\n",
    "        temp = fn(temp)\n",
    "        i = i + 1\n",
    "        d[temp] = d.get(temp,0) + 1\n",
    "        if temp not in l:\n",
    "            l = l + [temp]\n",
    "v = list(d.values())\n",
    "c = v[0]\n",
    "if len(v) == 1:\n",
    "    print('no')\n",
    "else:\n",
    "    m = max(v)\n",
    "    for i in l:\n",
    "        if d[i] == m:\n",
    "            print(i)\n",
    "            break\n",
    "#事实上直接int那个输入的情况就行了，没必要麻烦了"
   ]
  },
  {
   "cell_type": "code",
   "execution_count": 16,
   "metadata": {},
   "outputs": [
    {
     "data": {
      "text/plain": [
       "1000000000"
      ]
     },
     "execution_count": 16,
     "metadata": {},
     "output_type": "execute_result"
    }
   ],
   "source": []
  },
  {
   "cell_type": "code",
   "execution_count": 25,
   "metadata": {},
   "outputs": [],
   "source": [
    "v = list({3:1,4:2}.values())"
   ]
  },
  {
   "cell_type": "code",
   "execution_count": 26,
   "metadata": {},
   "outputs": [
    {
     "data": {
      "text/plain": [
       "[1, 2]"
      ]
     },
     "execution_count": 26,
     "metadata": {},
     "output_type": "execute_result"
    }
   ],
   "source": [
    "v"
   ]
  },
  {
   "cell_type": "code",
   "execution_count": null,
   "metadata": {},
   "outputs": [],
   "source": [
    "m,n = input().split()\n",
    "m = int(m)\n",
    "l = input().split()\n",
    "check = 0; memo = []\n",
    "for i in l:\n",
    "    if i not in memo:\n",
    "        check = check + 1\n",
    "        memo = memo + [i]\n",
    "        if len(memo) > m:\n",
    "            del memo[0]\n",
    "print(check)\n",
    "#可以更加省时。。。。吧？"
   ]
  },
  {
   "cell_type": "code",
   "execution_count": null,
   "metadata": {},
   "outputs": [],
   "source": [
    "m,n = map(int,input().split()); l = []\n",
    "for i in range(m):\n",
    "    l = l + [list(map(int,input().split()))]\n",
    "r,s = map(int,input().split()); c = []\n",
    "for i in range(r):\n",
    "    c = c + [list(map(int,input().split()))]\n",
    "x = m - r + 1; y = n - s + 1; analyze = []\n",
    "for i in range(x):\n",
    "    for j in range(y):\n",
    "        temp = [];resu = 0\n",
    "        for h in range(r):\n",
    "            temp = temp + [l[i+h][j:j+s]]\n",
    "        for p in range(r):\n",
    "            for q in range(s):\n",
    "                resu = resu + abs(temp[p][q]-c[p][q])\n",
    "        analyze = analyze + [resu]\n",
    "sele = min(analyze); sele = analyze.index(sele)\n",
    "m = sele // y; n = sele % y\n",
    "for i in range(r):\n",
    "    print(' '.join(map(str,l[m+i][n:n+s])))"
   ]
  },
  {
   "cell_type": "code",
   "execution_count": null,
   "metadata": {},
   "outputs": [],
   "source": [
    "def chk(z):\n",
    "    if z <= 1:\n",
    "        return 0\n",
    "    if z == 2:\n",
    "        return 1\n",
    "    for i in range(2,int((z+1)/2)+1):\n",
    "        if z % i == 0:\n",
    "            return 0\n",
    "    return 1\n",
    "n = int(input())\n",
    "if n <= 4:\n",
    "    print('empty')\n",
    "else:\n",
    "    for i in range(n-1):\n",
    "        if chk(i) == 1 and chk(i+2) == 1:\n",
    "            print(i,i+2)"
   ]
  },
  {
   "cell_type": "code",
   "execution_count": null,
   "metadata": {},
   "outputs": [],
   "source": [
    "def fn(p):\n",
    "    return int(p)\n",
    "n = int(input()); d = {}; l = []; i = 1\n",
    "while i <= n:\n",
    "    temp = input()\n",
    "    if temp != '':\n",
    "        temp = fn(temp)\n",
    "        i = i + 1\n",
    "        d[temp] = d.get(temp,0) + 1\n",
    "        if temp not in l:\n",
    "            l = l + [temp]\n",
    "v = list(d.values())\n",
    "c = v[0]\n",
    "if len(v) == 1:\n",
    "    print('no')\n",
    "else:\n",
    "    m = max(v)\n",
    "    for i in l:\n",
    "        if d[i] == m:\n",
    "            print(i)\n",
    "            break"
   ]
  },
  {
   "cell_type": "code",
   "execution_count": null,
   "metadata": {},
   "outputs": [],
   "source": []
  },
  {
   "cell_type": "code",
   "execution_count": null,
   "metadata": {},
   "outputs": [],
   "source": []
  },
  {
   "cell_type": "code",
   "execution_count": null,
   "metadata": {},
   "outputs": [],
   "source": []
  },
  {
   "cell_type": "code",
   "execution_count": null,
   "metadata": {},
   "outputs": [],
   "source": []
  },
  {
   "cell_type": "code",
   "execution_count": null,
   "metadata": {},
   "outputs": [],
   "source": []
  },
  {
   "cell_type": "code",
   "execution_count": null,
   "metadata": {},
   "outputs": [],
   "source": []
  },
  {
   "cell_type": "code",
   "execution_count": null,
   "metadata": {},
   "outputs": [],
   "source": []
  },
  {
   "cell_type": "code",
   "execution_count": null,
   "metadata": {},
   "outputs": [],
   "source": []
  },
  {
   "cell_type": "code",
   "execution_count": null,
   "metadata": {},
   "outputs": [],
   "source": []
  },
  {
   "cell_type": "code",
   "execution_count": null,
   "metadata": {},
   "outputs": [],
   "source": []
  }
 ],
 "metadata": {
  "kernelspec": {
   "display_name": "Python 3",
   "language": "python",
   "name": "python3"
  },
  "language_info": {
   "codemirror_mode": {
    "name": "ipython",
    "version": 3
   },
   "file_extension": ".py",
   "mimetype": "text/x-python",
   "name": "python",
   "nbconvert_exporter": "python",
   "pygments_lexer": "ipython3",
   "version": "3.7.3"
  }
 },
 "nbformat": 4,
 "nbformat_minor": 4
}
