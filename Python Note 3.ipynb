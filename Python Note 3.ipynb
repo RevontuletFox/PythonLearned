{
 "cells": [
  {
   "cell_type": "code",
   "execution_count": 6,
   "metadata": {},
   "outputs": [
    {
     "name": "stdin",
     "output_type": "stream",
     "text": [
      " 0\n"
     ]
    },
    {
     "name": "stdout",
     "output_type": "stream",
     "text": [
      "zero\n"
     ]
    }
   ],
   "source": [
    "#给定一个整数N，判断其正负。如果N > 0, 输出positive;如果N = 0, 输出zero;如果N < 0, 输出negative\n",
    "n = int(input())\n",
    "if n == 0:\n",
    "    print('zero')\n",
    "elif n > 0:\n",
    "    print('positive')\n",
    "else:\n",
    "    print('negative')"
   ]
  },
  {
   "cell_type": "code",
   "execution_count": 7,
   "metadata": {},
   "outputs": [
    {
     "name": "stdin",
     "output_type": "stream",
     "text": [
      " 15\n"
     ]
    },
    {
     "name": "stdout",
     "output_type": "stream",
     "text": [
      "YES\n"
     ]
    }
   ],
   "source": [
    "#判断一个数n 能否同时被3和5整除 输入一行，包含一个整数n。（ -1,000,000 < n < 1,000,000）\n",
    "#输出一行，如果能同时被3和5整除输出YES，否则输出NO\n",
    "n = int(input())\n",
    "if n%3 == 0 and n%5 == 0 and n != 0:#为什么这里and全换成&不行\n",
    "    print('YES')\n",
    "else:print('NO')"
   ]
  },
  {
   "cell_type": "code",
   "execution_count": 10,
   "metadata": {},
   "outputs": [
    {
     "name": "stdin",
     "output_type": "stream",
     "text": [
      " 1\n"
     ]
    },
    {
     "name": "stdout",
     "output_type": "stream",
     "text": [
      "n\n"
     ]
    }
   ],
   "source": [
    "n = int(input())\n",
    "if n % 3 == 0 and n % 5 == 0 and n % 7 == 0:\n",
    "    print('3 5 7')\n",
    "elif n % 3 == 0 and n % 5 == 0:\n",
    "    print('3 5')\n",
    "elif n % 3 == 0 and n % 7 == 0:\n",
    "    print('3 7')\n",
    "elif n % 5 == 0 and n % 7 == 0:\n",
    "    print('5 7')\n",
    "elif n % 5 == 0:\n",
    "    print('5')\n",
    "elif n % 3 == 0:\n",
    "    print('3')\n",
    "elif n % 7 == 0:\n",
    "    print(7)\n",
    "else: print('n')"
   ]
  },
  {
   "cell_type": "code",
   "execution_count": 13,
   "metadata": {},
   "outputs": [
    {
     "name": "stdin",
     "output_type": "stream",
     "text": [
      " 3\n",
      " 2\n",
      " 1\n",
      " 1\n"
     ]
    },
    {
     "name": "stdout",
     "output_type": "stream",
     "text": [
      "1.33\n"
     ]
    }
   ],
   "source": [
    "n = int(input())\n",
    "i = 1\n",
    "su = float(0)\n",
    "while i <= n:\n",
    "    x = int(input())\n",
    "    su = x + su\n",
    "    i = i + 1\n",
    "su = su/n\n",
    "print('%.2f' % su)"
   ]
  },
  {
   "cell_type": "code",
   "execution_count": 20,
   "metadata": {},
   "outputs": [
    {
     "name": "stdin",
     "output_type": "stream",
     "text": [
      " 123\n"
     ]
    },
    {
     "name": "stdout",
     "output_type": "stream",
     "text": [
      "3 2 1\n"
     ]
    }
   ],
   "source": [
    "#给定一个整数，要求从个位开始分离出它的每一位数字。\n",
    "#输入一个整数，整数在1到100000000之间。\n",
    "#从个位开始按照从低位到高位的顺序依次输出每一位数字。数字之间以一个空格分开。\n",
    "n = int(input())\n",
    "a = n%10;b = n%100;c = n%1000;d = n%10000;e = n%100000;f = n%1000000;g = n%10000000;h = n%100000000;i = n%1000000000\n",
    "i = int((i-h)/100000000)\n",
    "h = int((h-g)/10000000)\n",
    "g = int((g-f)/1000000)\n",
    "f = int((f-e)/100000)\n",
    "e = int((e-d)/10000)\n",
    "d = int((d-c)/1000)\n",
    "c = int((c-b)/100)\n",
    "b = int((b-a)/10)\n",
    "if i != 0:\n",
    "    print(a,b,c,d,e,f,g,h,i,sep=' ')\n",
    "elif h != 0:\n",
    "    print(a,b,c,d,e,f,g,h,sep=' ')\n",
    "elif g != 0:\n",
    "    print(a,b,c,d,e,f,g,sep=' ')\n",
    "elif f != 0:\n",
    "    print(a,b,c,d,e,f,sep=' ')\n",
    "elif e != 0:\n",
    "    print(a,b,c,d,e,sep=' ')\n",
    "elif d != 0:\n",
    "    print(a,b,c,d,sep=' ')\n",
    "elif c != 0:\n",
    "    print(a,b,c,sep=' ')\n",
    "elif b != 0:\n",
    "    print(a,b,sep=' ')\n",
    "else:\n",
    "    print(a)\n",
    "    "
   ]
  },
  {
   "cell_type": "code",
   "execution_count": 3,
   "metadata": {},
   "outputs": [
    {
     "name": "stdin",
     "output_type": "stream",
     "text": [
      " -123\n"
     ]
    },
    {
     "name": "stdout",
     "output_type": "stream",
     "text": [
      "-321\n"
     ]
    }
   ],
   "source": [
    "n = int(input())\n",
    "if n < 0:\n",
    "    i = 1\n",
    "    n = -n\n",
    "else:\n",
    "    i = 0\n",
    "t = 1\n",
    "a = 0\n",
    "while n != 0:\n",
    "    a = a*10\n",
    "    a = (a + n%10)\n",
    "    n = int(n/10)\n",
    "    t = t + 1\n",
    "if i == 1:\n",
    "    print(-a)\n",
    "else:\n",
    "    print(a)"
   ]
  },
  {
   "cell_type": "code",
   "execution_count": 4,
   "metadata": {},
   "outputs": [
    {
     "data": {
      "text/plain": [
       "True"
      ]
     },
     "execution_count": 4,
     "metadata": {},
     "output_type": "execute_result"
    }
   ],
   "source": [
    "15%3 == 0 and 15%5 == 0 and 15 != 0"
   ]
  },
  {
   "cell_type": "code",
   "execution_count": 5,
   "metadata": {},
   "outputs": [
    {
     "data": {
      "text/plain": [
       "False"
      ]
     },
     "execution_count": 5,
     "metadata": {},
     "output_type": "execute_result"
    }
   ],
   "source": [
    "15%3 == 0 & 15%5 == 0 & 15 != 0\n",
    "#该问题老师已回答"
   ]
  },
  {
   "cell_type": "code",
   "execution_count": null,
   "metadata": {},
   "outputs": [
    {
     "name": "stdin",
     "output_type": "stream",
     "text": [
      " \n"
     ]
    }
   ],
   "source": [
    "#给定一个整数，请将该数各个位上数字反转得到一个新数。\n",
    "#新数也应满足整数的常见形式，即除非给定的原数为零，否则反转后得到的新数的最高位数字不应为零。\n",
    "n = int(input())\n",
    "p = 0\n",
    "if n < 0:\n",
    "    n = -n\n",
    "    p = 1\n",
    "n = str(n)\n",
    "l = list(n)\n",
    "i = len(l)-1\n",
    "t = 0\n",
    "a = 0\n",
    "while t <= i:\n",
    "    a = a + int(l[t])*10**t\n",
    "    t = t + 1\n",
    "if p == 1:\n",
    "    print(-a)\n",
    "else:\n",
    "    print(a)"
   ]
  },
  {
   "cell_type": "code",
   "execution_count": null,
   "metadata": {},
   "outputs": [],
   "source": [
    "#给定一个整数，要求从个位开始分离出它的每一位数字。\n",
    "#输入一个整数，整数在1到100000000之间。\n",
    "#从个位开始按照从低位到高位的顺序依次输出每一位数字。数字之间以一个空格分开。"
   ]
  },
  {
   "cell_type": "code",
   "execution_count": null,
   "metadata": {},
   "outputs": [],
   "source": []
  },
  {
   "cell_type": "code",
   "execution_count": null,
   "metadata": {},
   "outputs": [],
   "source": [
    "x = 0\n",
    "n = int(input())\n",
    "if n % 3 == 0:\n",
    "    print(3,end='')\n",
    "    x = 1\n",
    "if n % 5 == 0:\n",
    "    if x !=  0:\n",
    "        print(' 5',end='')\n",
    "    else:\n",
    "        print(5,end='')\n",
    "    x = 1\n",
    "if n % 7 == 0:\n",
    "    if x != 0:\n",
    "        print(' 7')\n",
    "    else: print(7)\n",
    "    x = 1\n",
    "if x == 0:\n",
    "    print('n')"
   ]
  },
  {
   "cell_type": "code",
   "execution_count": 11,
   "metadata": {},
   "outputs": [
    {
     "name": "stdin",
     "output_type": "stream",
     "text": [
      " 123\n"
     ]
    },
    {
     "name": "stdout",
     "output_type": "stream",
     "text": [
      "3 2 1\n"
     ]
    }
   ],
   "source": [
    "n = input()\n",
    "l = list(reversed(n))\n",
    "i = 0\n",
    "n = len(l)-1\n",
    "while i <= n-1:\n",
    "    print(l[i],end=' ')\n",
    "    i = i + 1\n",
    "print(l[n])"
   ]
  },
  {
   "cell_type": "code",
   "execution_count": 3,
   "metadata": {},
   "outputs": [
    {
     "name": "stdin",
     "output_type": "stream",
     "text": [
      " 2\n"
     ]
    },
    {
     "name": "stdout",
     "output_type": "stream",
     "text": [
      "YES\n"
     ]
    }
   ],
   "source": [
    "x = int(input())\n",
    "if x == 1 or x == 3 or x == 5:\n",
    "    print('NO')\n",
    "else:\n",
    "    print('YES')"
   ]
  },
  {
   "cell_type": "code",
   "execution_count": 7,
   "metadata": {},
   "outputs": [
    {
     "name": "stdin",
     "output_type": "stream",
     "text": [
      " 1 2 3\n"
     ]
    },
    {
     "name": "stdout",
     "output_type": "stream",
     "text": [
      "1 2 3\n",
      "no\n"
     ]
    }
   ],
   "source": [
    "a,b,c = input().split(' ',2)\n",
    "a = int(a);b = int(b); c = int(c)\n",
    "if a+b>c and a+c>b and b+c>a:\n",
    "    print('yes')\n",
    "else:print('no')"
   ]
  },
  {
   "cell_type": "code",
   "execution_count": 18,
   "metadata": {},
   "outputs": [
    {
     "name": "stdin",
     "output_type": "stream",
     "text": [
      " 2000\n"
     ]
    },
    {
     "name": "stdout",
     "output_type": "stream",
     "text": [
      "Y\n"
     ]
    }
   ],
   "source": [
    "n = int(input())\n",
    "if n % 4 == 0 and n % 100 != 0 or (n % 100 == 0 and n % 400 == 0 and n % 3200 != 0):\n",
    "    print('Y')\n",
    "else:print('N')"
   ]
  },
  {
   "cell_type": "code",
   "execution_count": 3,
   "metadata": {},
   "outputs": [
    {
     "name": "stdin",
     "output_type": "stream",
     "text": [
      " 50 50\n"
     ]
    },
    {
     "name": "stdout",
     "output_type": "stream",
     "text": [
      "Impossible\n"
     ]
    }
   ],
   "source": [
    "n,k = input().split(' ',1)\n",
    "n = int(n);k = (100+float(k))/100\n",
    "i = 1\n",
    "while i*n < 200*k**(i-1) and i <= 20:\n",
    "    i = i + 1\n",
    "if i == 21:\n",
    "    print('Impossible')\n",
    "else:\n",
    "    print(i)\n"
   ]
  },
  {
   "cell_type": "code",
   "execution_count": 11,
   "metadata": {},
   "outputs": [
    {
     "name": "stdin",
     "output_type": "stream",
     "text": [
      " 5\n",
      " 85 78 90 99 60\n"
     ]
    },
    {
     "name": "stdout",
     "output_type": "stream",
     "text": [
      "99\n"
     ]
    }
   ],
   "source": [
    "n = int(input())-1\n",
    "t = n\n",
    "a = input()\n",
    "judge = int(a.split()[0])\n",
    "while n > 0:\n",
    "    k = int(a.split(' ',t)[n])\n",
    "    if judge < k:\n",
    "        judge = k\n",
    "    n = n - 1\n",
    "print(judge)"
   ]
  },
  {
   "cell_type": "code",
   "execution_count": 2,
   "metadata": {},
   "outputs": [
    {
     "name": "stdin",
     "output_type": "stream",
     "text": [
      " 5 2 10\n"
     ]
    },
    {
     "name": "stdout",
     "output_type": "stream",
     "text": [
      "6\n"
     ]
    }
   ],
   "source": [
    "M,N,X = input().split()\n",
    "M = int(M);N = int(N);X = int(X)\n",
    "while True:\n",
    "    needmax = 10000-int((10000 - M / N))\n",
    "    if X >= needmax:\n",
    "        X = X - needmax\n",
    "        N = N + int(M/N)\n",
    "    else: \n",
    "        day = X // N\n",
    "        N = N + day\n",
    "        print(N)\n",
    "        break\n",
    "    "
   ]
  },
  {
   "cell_type": "code",
   "execution_count": 13,
   "metadata": {},
   "outputs": [
    {
     "name": "stdout",
     "output_type": "stream",
     "text": [
      "0.42857142857142855\n"
     ]
    }
   ],
   "source": [
    "x = 3;y = 7\n",
    "j = x/y\n",
    "print(j)"
   ]
  },
  {
   "cell_type": "code",
   "execution_count": null,
   "metadata": {},
   "outputs": [],
   "source": []
  }
 ],
 "metadata": {
  "kernelspec": {
   "display_name": "Python 3",
   "language": "python",
   "name": "python3"
  },
  "language_info": {
   "codemirror_mode": {
    "name": "ipython",
    "version": 3
   },
   "file_extension": ".py",
   "mimetype": "text/x-python",
   "name": "python",
   "nbconvert_exporter": "python",
   "pygments_lexer": "ipython3",
   "version": "3.7.3"
  }
 },
 "nbformat": 4,
 "nbformat_minor": 4
}
