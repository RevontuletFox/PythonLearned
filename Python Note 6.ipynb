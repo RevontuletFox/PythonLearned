{
 "cells": [
  {
   "cell_type": "code",
   "execution_count": 1,
   "metadata": {},
   "outputs": [
    {
     "name": "stdin",
     "output_type": "stream",
     "text": [
      " i i i\n",
      " i\n",
      " t\n"
     ]
    },
    {
     "name": "stdout",
     "output_type": "stream",
     "text": [
      "t t t\n"
     ]
    }
   ],
   "source": [
    "l = input().split()\n",
    "x = input(); y = input()\n",
    "while x in l:\n",
    "    l[l.index(x)] = y\n",
    "print(' '.join(l))"
   ]
  },
  {
   "cell_type": "code",
   "execution_count": 13,
   "metadata": {},
   "outputs": [
    {
     "name": "stdout",
     "output_type": "stream",
     "text": [
      "[[0, 0, 0], [0, 0, 0], [0, 0, 0]]\n"
     ]
    },
    {
     "data": {
      "text/plain": [
       "[[0, 1, 0], [0, 1, 0], [0, 1, 0]]"
      ]
     },
     "execution_count": 13,
     "metadata": {},
     "output_type": "execute_result"
    }
   ],
   "source": [
    "a = [[0]*3]*3\n",
    "print(a)\n",
    "a[1][1] = 1\n",
    "print(a)\n",
    "#使用乘法产生浅拷贝，使用时须注意！"
   ]
  },
  {
   "cell_type": "code",
   "execution_count": 15,
   "metadata": {},
   "outputs": [
    {
     "name": "stdout",
     "output_type": "stream",
     "text": [
      "[[0, 0, 0], [0, 0, 0], [0, 0, 0]]\n",
      "[[0, 0, 0], [0, 1, 0], [0, 0, 0]]\n"
     ]
    }
   ],
   "source": [
    "a = []\n",
    "for i in range(3):\n",
    "    a.append([0]*3)\n",
    "print(a)\n",
    "a[1][1] = 1\n",
    "print(a)"
   ]
  },
  {
   "cell_type": "code",
   "execution_count": 18,
   "metadata": {},
   "outputs": [
    {
     "name": "stdout",
     "output_type": "stream",
     "text": [
      "[1, 2, 3, 4]\n",
      "['fuck', 2, 3, 4]\n"
     ]
    }
   ],
   "source": [
    "b = [1,2,3,4]\n",
    "a = b.copy()\n",
    "a[0] = 'fuck'\n",
    "print(b)\n",
    "print(a)\n",
    "#单纯的列表可以这么拷贝，但列表里面有列表但时候就不行了。"
   ]
  },
  {
   "cell_type": "code",
   "execution_count": 1,
   "metadata": {},
   "outputs": [
    {
     "name": "stdin",
     "output_type": "stream",
     "text": [
      " 4 % 1\n"
     ]
    },
    {
     "name": "stdout",
     "output_type": "stream",
     "text": [
      "0\n"
     ]
    }
   ],
   "source": [
    "def chk():\n",
    "    if '+' in x:\n",
    "        chase = '+'\n",
    "    elif '-' in x:\n",
    "        chase = '-'\n",
    "    elif '*' in x:\n",
    "        chase = '*'\n",
    "    elif '%' in x:\n",
    "        chase = '%'\n",
    "    elif '/' in x:\n",
    "        chase = '/'\n",
    "    c = x.index(chase)\n",
    "    n1 = int(''.join(x[0:c]))\n",
    "    n2 = int(''.join(x[c+1:len(x)]))\n",
    "    return(n1,n2,chase)\n",
    "def cal(p,q,symbol):\n",
    "    if symbol == '+':\n",
    "        print(p+q)\n",
    "    elif symbol == '-':\n",
    "        print(p-q)\n",
    "    elif symbol == '*':\n",
    "        print(p*q)\n",
    "    elif symbol == '%':\n",
    "        print(p%q)\n",
    "    elif symbol == '/':\n",
    "        print(int(p/q))\n",
    "x = input()\n",
    "if len(x.split()) == 1:\n",
    "    x = list(x)\n",
    "    n1,n2,chase = chk()\n",
    "else:\n",
    "    x = x.split()\n",
    "    n1 = int(x[0]); n2 = int(x[2]); chase = x[1]\n",
    "cal(n1,n2,chase)\n",
    "#runtime error,难道是4 +5类型不行？"
   ]
  },
  {
   "cell_type": "code",
   "execution_count": 60,
   "metadata": {},
   "outputs": [
    {
     "name": "stdin",
     "output_type": "stream",
     "text": [
      "     4    % 5    \n"
     ]
    },
    {
     "name": "stdout",
     "output_type": "stream",
     "text": [
      "4\n"
     ]
    }
   ],
   "source": [
    "def chk():\n",
    "    if '+' in x:\n",
    "        chase = '+'\n",
    "    elif '-' in x:\n",
    "        chase = '-'\n",
    "    elif '*' in x:\n",
    "        chase = '*'\n",
    "    elif '%' in x:\n",
    "        chase = '%'\n",
    "    elif '/' in x:\n",
    "        chase = '/'\n",
    "    c = x.index(chase)\n",
    "    n1 = int(''.join(x[0:c]))\n",
    "    n2 = int(''.join(x[c+1:len(x)]))\n",
    "    return(n1,n2,chase)\n",
    "def cal(p,q,symbol):\n",
    "    if symbol == '+':\n",
    "        print(p+q)\n",
    "    elif symbol == '-':\n",
    "        print(p-q)\n",
    "    elif symbol == '*':\n",
    "        print(p*q)\n",
    "    elif symbol == '%':\n",
    "        print(p%q)\n",
    "    elif symbol == '/':\n",
    "        print(int(p/q))\n",
    "x = input()\n",
    "x = list(x)\n",
    "while ' ' in x:\n",
    "    x.remove(' ')\n",
    "n1,n2,chase = chk()\n",
    "cal(n1,n2,chase)"
   ]
  },
  {
   "cell_type": "code",
   "execution_count": 6,
   "metadata": {},
   "outputs": [
    {
     "name": "stdin",
     "output_type": "stream",
     "text": [
      " 5\n",
      " Zhang 38.3 0\n",
      " Li 37.5 1\n"
     ]
    },
    {
     "name": "stdout",
     "output_type": "stream",
     "text": [
      "Li\n"
     ]
    },
    {
     "name": "stdin",
     "output_type": "stream",
     "text": [
      " Wang 37.1 1\n",
      " Zhao 39.0 1\n"
     ]
    },
    {
     "name": "stdout",
     "output_type": "stream",
     "text": [
      "Zhao\n"
     ]
    },
    {
     "name": "stdin",
     "output_type": "stream",
     "text": [
      " Liu 38.2 1\n"
     ]
    },
    {
     "name": "stdout",
     "output_type": "stream",
     "text": [
      "Liu\n",
      "3\n"
     ]
    }
   ],
   "source": [
    "def j(name,t,c):\n",
    "    if t >= 37.5 and c == '1':\n",
    "        print(name)\n",
    "        return(1)\n",
    "    else:\n",
    "        return(0)\n",
    "n = int(input());s = 0\n",
    "for i in range(n):\n",
    "    name,t,c = input().split()\n",
    "    t = float(t）\n",
    "    s = j(name,t,c) + s\n",
    "print(s)"
   ]
  },
  {
   "cell_type": "code",
   "execution_count": null,
   "metadata": {},
   "outputs": [],
   "source": [
    "5\n",
    "Zhang 38.3 0\n",
    "Li 37.5 1\n",
    "Wang 37.1 1\n",
    "Zhao 39.0 1\n",
    "Liu 38.2 1"
   ]
  },
  {
   "cell_type": "code",
   "execution_count": 51,
   "metadata": {},
   "outputs": [
    {
     "name": "stdin",
     "output_type": "stream",
     "text": [
      " 2 3\n",
      " 10 0 10\n",
      " 100 100 10\n",
      " AC\n"
     ]
    },
    {
     "name": "stdout",
     "output_type": "stream",
     "text": [
      "10 100\n",
      "0 100\n",
      "10 10\n"
     ]
    }
   ],
   "source": [
    "def a(op,h,w):\n",
    "    a = [list(' ' * h)for i in range(w)]\n",
    "    for i in range(h):\n",
    "        for j in range(w):\n",
    "            a[j][-i-1] = op[i][j]\n",
    "    return(a,w,h)\n",
    "def b(op,h,w):\n",
    "    a = [list(' ' * h)for i in range(w)]\n",
    "    for i in range(h):\n",
    "        for j in range(w):\n",
    "            a[-j-1][i] = op[i][j]\n",
    "    return(a,w,h)\n",
    "def c(op,h,w):\n",
    "    a = [list(' ' * w)for i in range(h)]\n",
    "    for i in range(h):\n",
    "        for j in range(w):\n",
    "            a[i][-j-1] = op[i][j]\n",
    "    return(a,h,w)\n",
    "def d(op,h,w):\n",
    "    a = [list(' ' * w)for i in range(h)]\n",
    "    for i in range(h):\n",
    "        for j in range(w):\n",
    "            a[-i-1][j] = op[i][j]\n",
    "    return(a,h,w)\n",
    "#主程序\n",
    "m,n = input().split();l = []\n",
    "m = int(m); n = int(n)\n",
    "for i in range(m):\n",
    "    l = l + [input().split()]\n",
    "proc = list(input())\n",
    "for i in proc:\n",
    "    if i == 'A':\n",
    "        l,m,n = a(l,m,n)\n",
    "    elif i == 'B':\n",
    "        l,m,n = b(l,m,n)\n",
    "    elif i == 'C':\n",
    "        l,m,n = c(l,m,n)\n",
    "    elif i == 'D':\n",
    "        l,m,n = d(l,m,n)\n",
    "for i in l:\n",
    "    print(' '.join(i))\n",
    "#holy shit!!!"
   ]
  },
  {
   "cell_type": "code",
   "execution_count": null,
   "metadata": {},
   "outputs": [],
   "source": [
    "2 3\n",
    "10 0 10\n",
    "100 100 10\n",
    "AC"
   ]
  },
  {
   "cell_type": "code",
   "execution_count": 37,
   "metadata": {},
   "outputs": [
    {
     "data": {
      "text/plain": [
       "[[' ', 1, ' '], [' ', ' ', ' '], [' ', ' ', ' '], [' ', ' ', ' ']]"
      ]
     },
     "execution_count": 37,
     "metadata": {},
     "output_type": "execute_result"
    }
   ],
   "source": [
    "a = [list(' ' * 3)for i in range(4)]\n",
    "a[0][1] = 1\n",
    "a\n",
    "#surpirse, mother fucker? 老子要你cpoy有何用\n",
    "#nmsl"
   ]
  },
  {
   "cell_type": "code",
   "execution_count": 2,
   "metadata": {},
   "outputs": [
    {
     "data": {
      "text/plain": [
       "True"
      ]
     },
     "execution_count": 2,
     "metadata": {},
     "output_type": "execute_result"
    }
   ],
   "source": [
    "'a' in 'ab'\n",
    "#某个问题"
   ]
  },
  {
   "cell_type": "code",
   "execution_count": null,
   "metadata": {},
   "outputs": [],
   "source": [
    "floor,room = input().split()\n",
    "floor = int(floor); room = int(room)\n",
    "start = int(input())\n",
    "houseinfo = []\n",
    "key = 0\n",
    "for i in range(floor):\n",
    "    temp = []\n",
    "    for j in range(room):\n",
    "        temp = temp +[list(input().split())]\n",
    "    houseinfo = houseinfo + [temp]\n",
    "def chkfloor(floorinfo,start):\n",
    "    global key\n",
    "    target = int(floorinfo[start][1])\n",
    "    countfloor = 0\n",
    "    key = key + target\n",
    "    temp = room - 1\n",
    "    while True:\n",
    "        if start == temp:\n",
    "            start = start - room\n",
    "        if floorinfo[start][0] != '0':\n",
    "            countfloor = countfloor + 1\n",
    "        if countfloor < target:\n",
    "            start = start + 1\n",
    "        else:\n",
    "            break\n",
    "        #放while里面会出问题\n",
    "    return start\n",
    "for i in range(floor):\n",
    "    start = chkfloor(houseinfo[i],start)\n",
    "print(key)"
   ]
  },
  {
   "cell_type": "code",
   "execution_count": null,
   "metadata": {},
   "outputs": [],
   "source": [
    "#变量名简短\n",
    "f,r = input().split()\n",
    "f = int(f); r = int(r)\n",
    "s = int(input())\n",
    "h = []\n",
    "key = 0\n",
    "for i in range(f):\n",
    "    temp = []\n",
    "    for j in range(r):\n",
    "        temp = temp +[list(input().split())]\n",
    "    h = h + [temp]\n",
    "def chkfloor(finfo,s):\n",
    "    global key\n",
    "    tt = int(finfo[s][1])\n",
    "    cf = 0\n",
    "    key = key + tt\n",
    "    temp = r - 1\n",
    "    while True:\n",
    "        if s == temp:\n",
    "            s = s - r\n",
    "        if finfo[s][0] != '0':\n",
    "            cf = cf + 1\n",
    "        if cf < tt:\n",
    "            s = s + 1\n",
    "        else:\n",
    "            break\n",
    "    return s\n",
    "for i in range(f):\n",
    "    s = chkfloor(h[i],s)\n",
    "print(key)"
   ]
  },
  {
   "cell_type": "code",
   "execution_count": 17,
   "metadata": {},
   "outputs": [
    {
     "name": "stdin",
     "output_type": "stream",
     "text": [
      " 7 3\n"
     ]
    }
   ],
   "source": [
    "import math\n",
    "m,n = input().split()\n",
    "m = int(m); n = int(n)\n",
    "t = 0\n",
    "for i in range(1,n+1):\n",
    "    "
   ]
  },
  {
   "cell_type": "code",
   "execution_count": 18,
   "metadata": {},
   "outputs": [
    {
     "data": {
      "text/plain": [
       "6.5"
      ]
     },
     "execution_count": 18,
     "metadata": {},
     "output_type": "execute_result"
    }
   ],
   "source": [
    "t"
   ]
  },
  {
   "cell_type": "code",
   "execution_count": null,
   "metadata": {},
   "outputs": [],
   "source": [
    "r = int(input())\n",
    "def cal(m,n):\n",
    "    if m < n:\n",
    "        return (cal(m,m))\n",
    "    elif n > 1:\n",
    "        return (cal(m,n-1)+cal(m-n,n))\n",
    "    else:\n",
    "        return (1)\n",
    "#裂项求和\n",
    "for i in range(r):\n",
    "    m,n = input().split()\n",
    "    m = int(m); n = int(n)\n",
    "    print(cal(m,n))"
   ]
  },
  {
   "cell_type": "code",
   "execution_count": null,
   "metadata": {},
   "outputs": [],
   "source": []
  },
  {
   "cell_type": "code",
   "execution_count": null,
   "metadata": {},
   "outputs": [],
   "source": []
  },
  {
   "cell_type": "code",
   "execution_count": null,
   "metadata": {},
   "outputs": [],
   "source": []
  },
  {
   "cell_type": "code",
   "execution_count": null,
   "metadata": {},
   "outputs": [],
   "source": []
  },
  {
   "cell_type": "code",
   "execution_count": null,
   "metadata": {},
   "outputs": [],
   "source": []
  },
  {
   "cell_type": "code",
   "execution_count": null,
   "metadata": {},
   "outputs": [],
   "source": []
  },
  {
   "cell_type": "code",
   "execution_count": null,
   "metadata": {},
   "outputs": [],
   "source": []
  },
  {
   "cell_type": "code",
   "execution_count": null,
   "metadata": {},
   "outputs": [],
   "source": []
  },
  {
   "cell_type": "code",
   "execution_count": null,
   "metadata": {},
   "outputs": [],
   "source": []
  },
  {
   "cell_type": "code",
   "execution_count": null,
   "metadata": {},
   "outputs": [],
   "source": []
  },
  {
   "cell_type": "code",
   "execution_count": null,
   "metadata": {},
   "outputs": [],
   "source": []
  },
  {
   "cell_type": "code",
   "execution_count": null,
   "metadata": {},
   "outputs": [],
   "source": []
  },
  {
   "cell_type": "code",
   "execution_count": null,
   "metadata": {},
   "outputs": [],
   "source": []
  },
  {
   "cell_type": "code",
   "execution_count": null,
   "metadata": {},
   "outputs": [],
   "source": []
  },
  {
   "cell_type": "code",
   "execution_count": null,
   "metadata": {},
   "outputs": [],
   "source": []
  },
  {
   "cell_type": "code",
   "execution_count": null,
   "metadata": {},
   "outputs": [],
   "source": []
  },
  {
   "cell_type": "code",
   "execution_count": null,
   "metadata": {},
   "outputs": [],
   "source": []
  },
  {
   "cell_type": "code",
   "execution_count": null,
   "metadata": {},
   "outputs": [],
   "source": []
  },
  {
   "cell_type": "code",
   "execution_count": null,
   "metadata": {},
   "outputs": [],
   "source": []
  },
  {
   "cell_type": "code",
   "execution_count": null,
   "metadata": {},
   "outputs": [],
   "source": []
  },
  {
   "cell_type": "code",
   "execution_count": null,
   "metadata": {},
   "outputs": [],
   "source": []
  },
  {
   "cell_type": "code",
   "execution_count": null,
   "metadata": {},
   "outputs": [],
   "source": []
  },
  {
   "cell_type": "code",
   "execution_count": null,
   "metadata": {},
   "outputs": [],
   "source": []
  },
  {
   "cell_type": "code",
   "execution_count": null,
   "metadata": {},
   "outputs": [],
   "source": []
  },
  {
   "cell_type": "code",
   "execution_count": null,
   "metadata": {},
   "outputs": [],
   "source": []
  },
  {
   "cell_type": "code",
   "execution_count": null,
   "metadata": {},
   "outputs": [],
   "source": []
  },
  {
   "cell_type": "code",
   "execution_count": null,
   "metadata": {},
   "outputs": [],
   "source": []
  },
  {
   "cell_type": "code",
   "execution_count": null,
   "metadata": {},
   "outputs": [],
   "source": []
  },
  {
   "cell_type": "code",
   "execution_count": null,
   "metadata": {},
   "outputs": [],
   "source": []
  },
  {
   "cell_type": "code",
   "execution_count": null,
   "metadata": {},
   "outputs": [],
   "source": []
  },
  {
   "cell_type": "code",
   "execution_count": null,
   "metadata": {},
   "outputs": [],
   "source": []
  },
  {
   "cell_type": "code",
   "execution_count": null,
   "metadata": {},
   "outputs": [],
   "source": []
  },
  {
   "cell_type": "code",
   "execution_count": null,
   "metadata": {},
   "outputs": [],
   "source": []
  },
  {
   "cell_type": "code",
   "execution_count": null,
   "metadata": {},
   "outputs": [],
   "source": []
  },
  {
   "cell_type": "code",
   "execution_count": null,
   "metadata": {},
   "outputs": [],
   "source": []
  },
  {
   "cell_type": "code",
   "execution_count": null,
   "metadata": {},
   "outputs": [],
   "source": []
  },
  {
   "cell_type": "code",
   "execution_count": null,
   "metadata": {},
   "outputs": [],
   "source": []
  }
 ],
 "metadata": {
  "kernelspec": {
   "display_name": "Python 3",
   "language": "python",
   "name": "python3"
  },
  "language_info": {
   "codemirror_mode": {
    "name": "ipython",
    "version": 3
   },
   "file_extension": ".py",
   "mimetype": "text/x-python",
   "name": "python",
   "nbconvert_exporter": "python",
   "pygments_lexer": "ipython3",
   "version": "3.6.9"
  }
 },
 "nbformat": 4,
 "nbformat_minor": 4
}
