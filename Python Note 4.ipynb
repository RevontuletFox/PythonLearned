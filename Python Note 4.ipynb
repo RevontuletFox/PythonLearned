{
 "cells": [
  {
   "cell_type": "code",
   "execution_count": null,
   "metadata": {},
   "outputs": [],
   "source": [
    "#列表,字典,元组学习,还有for循环的学习"
   ]
  },
  {
   "cell_type": "code",
   "execution_count": 10,
   "metadata": {},
   "outputs": [
    {
     "name": "stdout",
     "output_type": "stream",
     "text": [
      "500500\n"
     ]
    }
   ],
   "source": [
    "x = 0\n",
    "for i in range(1000):\n",
    "    x = x + i + 1\n",
    "print(x)"
   ]
  },
  {
   "cell_type": "code",
   "execution_count": 7,
   "metadata": {},
   "outputs": [
    {
     "name": "stdin",
     "output_type": "stream",
     "text": [
      " 2\n",
      " 1 2\n",
      " 2\n"
     ]
    },
    {
     "name": "stdout",
     "output_type": "stream",
     "text": [
      "1\n"
     ]
    }
   ],
   "source": [
    "n = int(input())\n",
    "l = input().split(' ',n-1)#或()不写任何参数,用默认的\n",
    "m = int(input())\n",
    "c = 0\n",
    "for i in range(n):\n",
    "    if int(l[i]) == m:\n",
    "        c = c + 1\n",
    "print(c)"
   ]
  },
  {
   "cell_type": "code",
   "execution_count": 2,
   "metadata": {},
   "outputs": [
    {
     "data": {
      "text/plain": [
       "['2', '3', '2']"
      ]
     },
     "execution_count": 2,
     "metadata": {},
     "output_type": "execute_result"
    }
   ],
   "source": [
    "l"
   ]
  },
  {
   "cell_type": "code",
   "execution_count": 24,
   "metadata": {},
   "outputs": [
    {
     "name": "stdin",
     "output_type": "stream",
     "text": [
      " 3 3\n",
      " 1 2 3\n"
     ]
    },
    {
     "name": "stdout",
     "output_type": "stream",
     "text": [
      "['3', '2', '1']\n"
     ]
    },
    {
     "name": "stdin",
     "output_type": "stream",
     "text": [
      " 4 5 6\n"
     ]
    },
    {
     "name": "stdout",
     "output_type": "stream",
     "text": [
      "['6', '5', '4']\n"
     ]
    },
    {
     "name": "stdin",
     "output_type": "stream",
     "text": [
      " 7 8 9\n"
     ]
    },
    {
     "name": "stdout",
     "output_type": "stream",
     "text": [
      "['9', '8', '7']\n",
      "7 4 1\n",
      "8 5 2\n",
      "9 6 3\n"
     ]
    }
   ],
   "source": [
    "#图像旋转\n",
    "n,m = input().split()\n",
    "n = int(n); m = int(m);l = []\n",
    "for i in range(n):\n",
    "    add = input().split()\n",
    "    add = list(reversed(add))\n",
    "    l = l + add\n",
    "l = list(reversed(l))\n",
    "x = 0\n",
    "t = [0,0]\n",
    "for t[0] in range(m):\n",
    "    for t[1] in range(n-1):\n",
    "        print(l[x],end=' ')\n",
    "        x = x + m\n",
    "    print(l[x])\n",
    "    x = t[0] + 1#注意reversed()的结果是??? 而不是list"
   ]
  },
  {
   "cell_type": "code",
   "execution_count": 25,
   "metadata": {},
   "outputs": [
    {
     "name": "stdin",
     "output_type": "stream",
     "text": [
      " 3 3\n",
      " 1 2 3\n",
      " 4 5 6\n",
      " 7 8 9\n"
     ]
    },
    {
     "name": "stdout",
     "output_type": "stream",
     "text": [
      "7 4 1\n",
      "8 5 2\n",
      "9 6 3\n"
     ]
    }
   ],
   "source": [
    "#方法2\n",
    "n,m = input().split()\n",
    "n = int(n); m = int(m);l = []\n",
    "for i in range(n):\n",
    "    add = input().split()\n",
    "    add.reverse()\n",
    "    l = l + add\n",
    "l.reverse()\n",
    "x = 0\n",
    "t = [0,0]\n",
    "for t[0] in range(m):\n",
    "    for t[1] in range(n-1):\n",
    "        print(l[x],end=' ')\n",
    "        x = x + m\n",
    "    print(l[x])\n",
    "    x = t[0] + 1"
   ]
  },
  {
   "cell_type": "code",
   "execution_count": 3,
   "metadata": {},
   "outputs": [
    {
     "name": "stdin",
     "output_type": "stream",
     "text": [
      " 500 3\n",
      " 150 300\n",
      " 100 200\n",
      " 470 471\n"
     ]
    },
    {
     "name": "stdout",
     "output_type": "stream",
     "text": [
      "298\n"
     ]
    }
   ],
   "source": [
    "#校门外的树\n",
    "length,area = input().split()\n",
    "length = int(length);area = int(area)\n",
    "tree = [1]*(length+1)\n",
    "for i in range(area):\n",
    "    x,y = input().split()\n",
    "    x = int(x); y = int(y)\n",
    "    tree[x:y+1] = [0]*(y-x+1)\n",
    "i = 0;area = 0\n",
    "for i in tree:\n",
    "    area = area + i\n",
    "print(area)"
   ]
  },
  {
   "cell_type": "code",
   "execution_count": 9,
   "metadata": {},
   "outputs": [
    {
     "name": "stdin",
     "output_type": "stream",
     "text": [
      " 10 3 4\n",
      " 0 2 5\n",
      " 0 5 0 2\n"
     ]
    },
    {
     "name": "stdout",
     "output_type": "stream",
     "text": [
      "['0', '2', '5', '0', '2', '5', '0', '2', '5', '0', '2', '5']\n",
      "A\n"
     ]
    }
   ],
   "source": [
    "n,a,b = input().split()\n",
    "n = int(n); a = int(a); b = int(b)#只能用分号\n",
    "ra = input().split()\n",
    "rb = input().split()\n",
    "ra = ra*(n//a+1)\n",
    "rb = rb*(n//b+1)#合并写也没问题\n",
    "a = 0; b = 0#石头剪刀布025\n",
    "for i in range(n):\n",
    "    if int(ra[i]) == 0 and int(rb[i]) == 2 or int(ra[i]) == 2 and int(rb[i]) == 5 or int(ra[i]) == 5 and int(rb[i]) == 0:\n",
    "        a = a + 1\n",
    "    elif ra[i] == rb[i]:\n",
    "        a = a + 0\n",
    "    else:\n",
    "        a = a - 1\n",
    "if a > 0:\n",
    "    print('A')\n",
    "elif a == 0:\n",
    "    print('draw')\n",
    "else:\n",
    "    print('B')\n",
    "        "
   ]
  },
  {
   "cell_type": "code",
   "execution_count": 11,
   "metadata": {},
   "outputs": [
    {
     "name": "stdin",
     "output_type": "stream",
     "text": [
      " 000000000002\n",
      " 000000021\n"
     ]
    },
    {
     "name": "stdout",
     "output_type": "stream",
     "text": [
      "23\n"
     ]
    }
   ],
   "source": [
    "#大整数加法\n",
    "a = int(input()); b = int(input())\n",
    "print(int(a+b))"
   ]
  },
  {
   "cell_type": "code",
   "execution_count": 1,
   "metadata": {},
   "outputs": [
    {
     "name": "stdin",
     "output_type": "stream",
     "text": [
      " 5\n",
      " 00508192 3 2\n",
      " 00508153 4 5\n",
      " 00508172 3 2\n",
      " 00508023 4 5\n",
      " 00509122 4 5\n"
     ]
    },
    {
     "name": "stdout",
     "output_type": "stream",
     "text": [
      "3 2 00508192 00508172\n",
      "4 5 00508153 00508023 00509122\n"
     ]
    }
   ],
   "source": [
    "#生日相同,输出结尾无空格版,一律输出,不能辨别是否相同\n",
    "n = int(input())\n",
    "d = {}; ln = []; lb = []; lk = []\n",
    "for i in range(n):\n",
    "    x,y,z = input().split()\n",
    "    y = int(y); z = int(z)\n",
    "    d[x] = [y,z]\n",
    "    ln = ln + [x]\n",
    "    if not ([y,z] in lb):\n",
    "#        lb = lb\n",
    "#    else:\n",
    "        lb = lb + [[y,z]]\n",
    "lb.sort()\n",
    "#print(lb)\n",
    "for i in range(len(lb)):\n",
    "    x = 0;y = 0;z = 0\n",
    "    for t in range(n):\n",
    "        if lb[i] == d[ln[t]]:\n",
    "            if x == 0:\n",
    "                print(str(lb[i][0])+' '+str(lb[i][1])+' '+ln[t],end='')\n",
    "                x = 1\n",
    "            else:\n",
    "                print(end=' ')\n",
    "                print(ln[t],end='')\n",
    "    print('')\n",
    "#5\n",
    "#00508192 3 2\n",
    "#00508153 4 5\n",
    "#00508172 3 2\n",
    "#00508023 4 5\n",
    "#00509122 4 5"
   ]
  },
  {
   "cell_type": "code",
   "execution_count": 5,
   "metadata": {},
   "outputs": [
    {
     "name": "stdin",
     "output_type": "stream",
     "text": [
      " 5\n",
      " 00508192 3 2\n",
      " 00508153 4 5\n",
      " 00508172 3 2\n",
      " 00508023 4 5\n",
      " 00509122 4 5\n"
     ]
    },
    {
     "name": "stdout",
     "output_type": "stream",
     "text": [
      "3 2 00508192 00508172\n",
      "4 5 00508153 00508023 00509122\n"
     ]
    }
   ],
   "source": [
    "#生日相同,输出结尾无空格版,能辨别是否相同\n",
    "n = int(input())\n",
    "d = {}\n",
    "ln = []\n",
    "lb = []\n",
    "for i in range(n):\n",
    "    x,y,z = input().split()\n",
    "    y = int(y); z = int(z)\n",
    "    d[x] = [y,z]\n",
    "    ln = ln + [x]\n",
    "    if not ([y,z,0] in lb):\n",
    "        lb = lb + [[y,z,0]]\n",
    "    else:\n",
    "        lb[lb.index([y,z,0])] = [y,z,1]\n",
    "lb.sort()\n",
    "for i in range(len(lb)):\n",
    "    x = 0\n",
    "    if lb[i][2] != 0:\n",
    "        for t in range(n):\n",
    "            if lb[i] == d[ln[t]] + [1]:\n",
    "                if x == 0:\n",
    "                    print(str(lb[i][0])+' '+str(lb[i][1])+' '+ln[t],end='')\n",
    "                    x = 1\n",
    "                else:\n",
    "                    print(end=' ')\n",
    "                    print(ln[t],end='')\n",
    "        print('')\n",
    "#5\n",
    "#00508192 3 2\n",
    "#00508153 4 5\n",
    "#00508172 3 2\n",
    "#00508023 4 5\n",
    "#00509122 4 5\n",
    "#oj开发者死全家"
   ]
  },
  {
   "cell_type": "code",
   "execution_count": 1,
   "metadata": {},
   "outputs": [
    {
     "data": {
      "text/plain": [
       "True"
      ]
     },
     "execution_count": 1,
     "metadata": {},
     "output_type": "execute_result"
    }
   ],
   "source": [
    "3 in {1:3}.values()"
   ]
  },
  {
   "cell_type": "code",
   "execution_count": 4,
   "metadata": {},
   "outputs": [
    {
     "data": {
      "text/plain": [
       "[[1, 0], [1, 2]]"
      ]
     },
     "execution_count": 4,
     "metadata": {},
     "output_type": "execute_result"
    }
   ],
   "source": [
    "a = [[1,2],[1,0]]\n",
    "a.sort()\n",
    "a"
   ]
  },
  {
   "cell_type": "code",
   "execution_count": 3,
   "metadata": {},
   "outputs": [
    {
     "data": {
      "text/plain": [
       "2"
      ]
     },
     "execution_count": 3,
     "metadata": {},
     "output_type": "execute_result"
    }
   ],
   "source": [
    "len([[1, 0], [1, 2]])"
   ]
  },
  {
   "cell_type": "code",
   "execution_count": 2,
   "metadata": {},
   "outputs": [
    {
     "name": "stdin",
     "output_type": "stream",
     "text": [
      " 5\n",
      " 00508192 3 2\n",
      " 00508153 4 5\n",
      " 00508172 3 2\n",
      " 00508023 4 5\n",
      " 00509122 4 5\n"
     ]
    },
    {
     "name": "stdout",
     "output_type": "stream",
     "text": [
      "3 2 00508192 00508172\n",
      "4 5 00508153 00508023 00509122\n"
     ]
    }
   ],
   "source": [
    "n = int(input()); s = {}; l = []\n",
    "for i in range(n):\n",
    "    k,x,y = input().split()\n",
    "    t = x + ' ' + y\n",
    "    x = int(x); y = int(y)\n",
    "    if t not in s.keys():\n",
    "        s[t] = k\n",
    "        l = l + [[x,y]]\n",
    "    else:\n",
    "        s[t] = s[t] + ' ' + k\n",
    "l.sort()\n",
    "for n in range(len(l)):\n",
    "    t = str(l[n][0]) + ' ' + str(l[n][1])\n",
    "    if len(s[t].split()) > 1:\n",
    "        print(t+' '+s[t])\n",
    "\n",
    "#5\n",
    "#00508192 3 2\n",
    "#00508153 4 5\n",
    "#00508172 3 2\n",
    "#00508023 4 5\n",
    "#00509122 4 5\n"
   ]
  },
  {
   "cell_type": "code",
   "execution_count": 4,
   "metadata": {},
   "outputs": [
    {
     "name": "stdin",
     "output_type": "stream",
     "text": [
      " 5\n",
      " 00508192 3 2\n",
      " 00508153 4 5\n",
      " 00508172 3 2\n",
      " 00508023 4 5\n",
      " 00509122 4 5\n"
     ]
    },
    {
     "name": "stdout",
     "output_type": "stream",
     "text": [
      "3 2 00508192 00508172\n",
      "4 5 00508153 00508023 00509122\n"
     ]
    }
   ],
   "source": [
    "n=int(input()); s1={}\n",
    "for i in range(n):\n",
    "    ID,m,d=input().split()\n",
    "    m=int(m); day=int(d)\n",
    "    s1[(m,d)]=s1.get((m,d),'')+' '+ID\n",
    "s2=list(s1.items()); s2.sort()\n",
    "for date,n in s2:\n",
    "    m,d=date\n",
    "    if(len(n.split())>1):\n",
    "        print(str(m)+' '+str(d)+n)"
   ]
  },
  {
   "cell_type": "code",
   "execution_count": null,
   "metadata": {},
   "outputs": [],
   "source": [
    "n = int(input()); s = {}; l = []\n",
    "for i in range(n):\n",
    "    k,x,y = input().split()\n",
    "    t = x + ' ' + y\n",
    "    x = int(x); y = int(y)\n",
    "    if t not in s.keys():\n",
    "        s[t] = k; l = l + [[x,y]]\n",
    "    else:\n",
    "        s[t] = s[t] + ' ' + k\n",
    "l.sort()\n",
    "for n in range(len(l)):\n",
    "    t = str(l[n][0]) + ' ' + str(l[n][1])\n",
    "    if len(s[t].split()) > 1:\n",
    "        print(t+' '+s[t])\n",
    "\n",
    "#5\n",
    "#00508192 3 2\n",
    "#00508153 4 5\n",
    "#00508172 3 2\n",
    "#00508023 4 5\n",
    "#00509122 4 5\n",
    "\n"
   ]
  },
  {
   "cell_type": "code",
   "execution_count": 1,
   "metadata": {},
   "outputs": [
    {
     "name": "stdin",
     "output_type": "stream",
     "text": [
      " 333333333\n",
      " 222222222\n"
     ]
    },
    {
     "name": "stdout",
     "output_type": "stream",
     "text": [
      "555555555\n"
     ]
    }
   ],
   "source": [
    "#大整数加法,超级简化版\n",
    "print(int(input())+int(input()))"
   ]
  },
  {
   "cell_type": "code",
   "execution_count": 3,
   "metadata": {},
   "outputs": [
    {
     "name": "stdin",
     "output_type": "stream",
     "text": [
      " 5\n",
      " 00508192 3 2\n",
      " 00508153 4 5\n",
      " 00508172 3 2\n",
      " 00508023 4 5\n",
      " 00509122 4 5\n"
     ]
    },
    {
     "name": "stdout",
     "output_type": "stream",
     "text": [
      "3 2 00508192 00508172\n",
      "4 5 00508153 00508023 00509122\n"
     ]
    }
   ],
   "source": [
    "\n",
    "n = int(input()); s = {}; l = []\n",
    "for i in range(n):\n",
    "    k,x,y = input().split()\n",
    "    t = x + ' ' + y\n",
    "    x = int(x); y = int(y)\n",
    "    if t not in s.keys():\n",
    "        s[t] = k\n",
    "        l = l + [[x,y]]\n",
    "    else:\n",
    "        s[t] = s[t] + ' ' + k\n",
    "l.sort()\n",
    "for n in range(len(l)):\n",
    "    t = str(l[n][0]) + ' ' + str(l[n][1])\n",
    "    if len(s[t].split()) > 1:\n",
    "        print(t+' '+s[t])"
   ]
  },
  {
   "cell_type": "code",
   "execution_count": null,
   "metadata": {},
   "outputs": [],
   "source": []
  },
  {
   "cell_type": "code",
   "execution_count": null,
   "metadata": {},
   "outputs": [],
   "source": []
  },
  {
   "cell_type": "code",
   "execution_count": null,
   "metadata": {},
   "outputs": [],
   "source": []
  }
 ],
 "metadata": {
  "kernelspec": {
   "display_name": "Python 3",
   "language": "python",
   "name": "python3"
  },
  "language_info": {
   "codemirror_mode": {
    "name": "ipython",
    "version": 3
   },
   "file_extension": ".py",
   "mimetype": "text/x-python",
   "name": "python",
   "nbconvert_exporter": "python",
   "pygments_lexer": "ipython3",
   "version": "3.7.3"
  }
 },
 "nbformat": 4,
 "nbformat_minor": 4
}
