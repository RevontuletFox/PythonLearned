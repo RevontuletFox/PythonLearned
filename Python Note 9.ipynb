{
 "cells": [
  {
   "cell_type": "code",
   "execution_count": 3,
   "metadata": {},
   "outputs": [
    {
     "data": {
      "text/plain": [
       "32"
      ]
     },
     "execution_count": 3,
     "metadata": {},
     "output_type": "execute_result"
    }
   ],
   "source": [
    "ord(' ')"
   ]
  },
  {
   "cell_type": "code",
   "execution_count": 7,
   "metadata": {},
   "outputs": [
    {
     "name": "stdin",
     "output_type": "stream",
     "text": [
      " NS BFW, JAJSYX TK NRUTWYFSHJ FWJ YMJ WJXZQY TK YWNANFQ HFZXJX\n"
     ]
    },
    {
     "name": "stdout",
     "output_type": "stream",
     "text": [
      "IN WAR, EVENTS OF IMPORTANCE ARE THE RESULT OF TRIVIAL CAUSES\n"
     ]
    }
   ],
   "source": [
    "'''1:简单密码\n",
    "查看 提交 统计 提问\n",
    "总时间限制: 1000ms 内存限制: 65536kB\n",
    "描述\n",
    "Julius Caesar曾经使用过一种很简单的密码。对于明文中的每个字符，将它用它字母表中后5位对应的字符来代替，这样就得到了密文。比如字符A用F来代替。如下是密文和明文中字符的对应关系。\n",
    "\n",
    "密文\n",
    "A B C D E F G H I J K L M N O P Q R S T U V W X Y Z\n",
    "\n",
    "明文\n",
    "V W X Y Z A B C D E F G H I J K L M N O P Q R S T U \n",
    "\n",
    "你的任务是对给定的密文进行解密得到明文。\n",
    "\n",
    "你需要注意的是，密文中出现的字母都是大写字母。密文中也包括非字母的字符，对这些字符不用进行解码。\n",
    "\n",
    "输入\n",
    "一行，给出密文，密文不为空，而且其中的字符数不超过200。\n",
    "输出\n",
    "输出一行，即密文对应的明文。\n",
    "样例输入\n",
    "NS BFW, JAJSYX TK NRUTWYFSHJ FWJ YMJ WJXZQY TK YWNANFQ HFZXJX\n",
    "样例输出\n",
    "IN WAR, EVENTS OF IMPORTANCE ARE THE RESULT OF TRIVIAL CAUSES'''\n",
    "def encode(p):\n",
    "    q = ''\n",
    "    for i in p:\n",
    "        n = int(ord(i))\n",
    "        if n >= 65 and n <= 90:\n",
    "            n = (n - 70)%26 + 65\n",
    "        q = q + chr(n)\n",
    "    return q\n",
    "print(encode(input()))"
   ]
  },
  {
   "cell_type": "code",
   "execution_count": 8,
   "metadata": {},
   "outputs": [
    {
     "name": "stdin",
     "output_type": "stream",
     "text": [
      " 1234\n"
     ]
    },
    {
     "name": "stdout",
     "output_type": "stream",
     "text": [
      "cege\n"
     ]
    }
   ],
   "source": [
    "'''2:输出亲朋字符串\n",
    "查看 提交 统计 提问\n",
    "总时间限制: 1000ms 内存限制: 65536kB\n",
    "描述\n",
    "编写程序，求给定字符串s的亲朋字符串s1。 \n",
    "\n",
    "亲朋字符串s1定义如下：给定字符串s的第一个字符的ASCII值加第二个字符的ASCII值，得到第一个亲朋字符； 给定字符串s的第二个字符的ASCII值加第三个字符的ASCII值，得到第二个亲朋字符；依此类推，直到给定字符串s的倒数第二个字符。亲朋字符串的最 后一个字符由给定字符串s的最后一个字符ASCII值加s的第一个字符的ASCII值。\n",
    "\n",
    "输入\n",
    "输入一行，一个长度大于等于2，小于等于100的字符串。字符串中每个字符的ASCII值不大于63。\n",
    "输出\n",
    "输出一行，为变换后的亲朋字符串。输入保证变换后的字符串只有一行。\n",
    "样例输入\n",
    "1234\n",
    "样例输出\n",
    "cege'''\n",
    "def encode(p):\n",
    "    q = ''\n",
    "    a = len(p)\n",
    "    p = p + p[0]\n",
    "    for i in range(a):\n",
    "        q = q + chr(ord(p[i])+ord(p[i+1]))\n",
    "    return q\n",
    "print(encode(input()))"
   ]
  },
  {
   "cell_type": "code",
   "execution_count": 10,
   "metadata": {},
   "outputs": [
    {
     "name": "stdin",
     "output_type": "stream",
     "text": [
      " 0.85\n",
      " ATCGCCGTAAGTAACGGTTTTAAATAGGCC\n",
      " ATCGCCGGAAGTAACGGTCTTAAATAGGCC\n"
     ]
    },
    {
     "name": "stdout",
     "output_type": "stream",
     "text": [
      "yes\n"
     ]
    }
   ],
   "source": [
    "'''3:基因相关性\n",
    "查看 提交 统计 提问\n",
    "总时间限制: 1000ms 内存限制: 65536kB\n",
    "描述\n",
    "为了获知基因序列在功能和结构上的相似性，经常需要将几条不同序列的DNA进行比对，以判断该比对的DNA是否具有相关性。\n",
    "\n",
    "现比对两条长度相同的DNA序列。首先定义两条DNA序列相同位置的碱基为一个碱基对，如果一个碱基对中的两个碱基相同的话，则称为相同碱基对。接着计算相同碱基对占总碱基对数量的比例，如果该比例大于等于给定阈值时则判定该两条DNA序列是相关的，否则不相关。\n",
    "\n",
    "输入\n",
    "有三行，第一行是用来判定出两条DNA序列是否相关的阈值，随后2行是两条DNA序列（长度不大于500）。\n",
    "输出\n",
    "若两条DNA序列相关，则输出“yes”，否则输出“no”。\n",
    "样例输入\n",
    "0.85\n",
    "ATCGCCGTAAGTAACGGTTTTAAATAGGCC\n",
    "ATCGCCGGAAGTAACGGTCTTAAATAGGCC\n",
    "样例输出\n",
    "yes'''\n",
    "def chk(rate,a,b):\n",
    "    l = len(a); p = 0\n",
    "    for i in range(l):\n",
    "        if a[i] == b[i]:\n",
    "            p = p + 1\n",
    "    p = p/l\n",
    "    if p >= rate:\n",
    "        return 'yes'\n",
    "    else:\n",
    "        return 'no'\n",
    "print(chk(float(input()),input(),input()))"
   ]
  },
  {
   "cell_type": "code",
   "execution_count": 13,
   "metadata": {},
   "outputs": [
    {
     "name": "stdin",
     "output_type": "stream",
     "text": [
      " 177--771\n"
     ]
    },
    {
     "name": "stdout",
     "output_type": "stream",
     "text": [
      "yes\n"
     ]
    }
   ],
   "source": [
    "'''4:判断字符串是否为回文\n",
    "查看 提交 统计 提问\n",
    "总时间限制: 1000ms 内存限制: 65536kB\n",
    "描述\n",
    "输入一个字符串，输出该字符串是否回文。回文是指顺读和倒读都一样的字符串。\n",
    "\n",
    "输入\n",
    "输入为一行字符串（字符串中没有空白字符，字符串长度不超过100）。\n",
    "输出\n",
    "如果字符串是回文，输出yes；否则，输出no。\n",
    "样例输入\n",
    "abcdedcba\n",
    "样例输出\n",
    "yes'''\n",
    "def chkecho(p):\n",
    "    q = len(p) // 2\n",
    "    for i in range(q):\n",
    "        if p[i] != p[-1-i]:\n",
    "            return 'no'\n",
    "    return 'yes'\n",
    "print(chkecho(input()))"
   ]
  },
  {
   "cell_type": "code",
   "execution_count": 7,
   "metadata": {},
   "outputs": [
    {
     "name": "stdin",
     "output_type": "stream",
     "text": [
      " I am studying Programming language C in Peking University\n"
     ]
    },
    {
     "name": "stdout",
     "output_type": "stream",
     "text": [
      "Programming\n",
      "I\n"
     ]
    }
   ],
   "source": [
    "'''5:最长最短单词\n",
    "查看 提交 统计 提问\n",
    "总时间限制: 1000ms 内存限制: 65536kB\n",
    "描述\n",
    "输入1行句子（不多于200个单词，每个单词长度不超过100），只包含字母、空格和逗号。单词由至少一个连续的字母构成，空格和逗号都是单词间的间隔。\n",
    "\n",
    "试输出第1个最长的单词和第1个最短单词。 \n",
    "\n",
    "输入\n",
    "一行句子。\n",
    "输出\n",
    "两行输出：\n",
    "第1行，第一个最长的单词。\n",
    "第2行，第一个最短的单词。\n",
    "样例输入\n",
    "I am studying Programming language C in Peking University\n",
    "样例输出\n",
    "Programming\n",
    "I\n",
    "提示\n",
    "如果所有单词长度相同，那么第一个单词既是最长单词也是最短单词。'''\n",
    "l = input(); d = {}\n",
    "l = l.replace(',',' ')\n",
    "l = l.split()\n",
    "for i in l:\n",
    "    d[i] = len(i)\n",
    "p = list(d.values())\n",
    "p.sort()\n",
    "x = p[0]; y = p[-1]\n",
    "for i in l:\n",
    "    if d[i] == y:\n",
    "        print(i)\n",
    "        break\n",
    "for i in l:\n",
    "    if d[i] == x:\n",
    "        print(i)\n",
    "        break"
   ]
  },
  {
   "cell_type": "code",
   "execution_count": null,
   "metadata": {},
   "outputs": [],
   "source": [
    "def encode(p):\n",
    "    q = ''\n",
    "    for i in p:\n",
    "        n = int(ord(i))\n",
    "        if n >= 65 and n <= 90:\n",
    "            n = (n - 70)%26 + 65\n",
    "        q = q + chr(n)\n",
    "    return q\n",
    "print(encode(input()))"
   ]
  },
  {
   "cell_type": "code",
   "execution_count": null,
   "metadata": {},
   "outputs": [],
   "source": [
    "def encode(p):\n",
    "    q = ''\n",
    "    a = len(p)\n",
    "    p = p + p[0]\n",
    "    for i in range(a):\n",
    "        q = q + chr(ord(p[i])+ord(p[i+1]))\n",
    "    return q\n",
    "print(encode(input()))"
   ]
  },
  {
   "cell_type": "code",
   "execution_count": null,
   "metadata": {},
   "outputs": [],
   "source": [
    "def chk(rate,a,b):\n",
    "    l = len(a); p = 0\n",
    "    for i in range(l):\n",
    "        if a[i] == b[i]:\n",
    "            p = p + 1\n",
    "    p = p/l\n",
    "    if p >= rate:\n",
    "        return 'yes'\n",
    "    else:\n",
    "        return 'no'\n",
    "print(chk(float(input()),input(),input()))"
   ]
  },
  {
   "cell_type": "code",
   "execution_count": null,
   "metadata": {},
   "outputs": [],
   "source": [
    "def chkecho(p):\n",
    "    q = len(p) // 2\n",
    "    for i in range(q):\n",
    "        if p[i] != p[-1-i]:\n",
    "            return 'no'\n",
    "    return 'yes'\n",
    "print(chkecho(input()))"
   ]
  },
  {
   "cell_type": "code",
   "execution_count": null,
   "metadata": {},
   "outputs": [],
   "source": [
    "l = input(); d = {}\n",
    "l = l.replace(',',' ')\n",
    "l = l.split()\n",
    "for i in l:\n",
    "    d[i] = len(i)\n",
    "p = list(d.values())\n",
    "p.sort()\n",
    "x = p[0]; y = p[-1]\n",
    "for i in l:\n",
    "    if d[i] == y:\n",
    "        print(i)\n",
    "        break\n",
    "for i in l:\n",
    "    if d[i] == x:\n",
    "        print(i)\n",
    "        break"
   ]
  },
  {
   "cell_type": "code",
   "execution_count": null,
   "metadata": {},
   "outputs": [],
   "source": [
    "'''6:潜伏者\n",
    "查看 提交 统计 提问\n",
    "总时间限制: 1000ms 内存限制: 65536kB\n",
    "描述\n",
    "R国和S国正陷入战火之中，双方都互派间谍，潜入对方内部，伺机行动。\n",
    "\n",
    "历经艰险后，潜伏于S国的R国间谍小C终于摸清了S国军用密码的编码规则：\n",
    "\n",
    "1、    S国军方内部欲发送的原信息经过加密后在网络上发送，原信息的内容与加密后所的内容均由大写字母‘A’—‘Z’构成（无空格等其他字母）。\n",
    "\n",
    "2、    S国对于每个字母规定了对应的“密字”。加密的过程就是将原信息中的所有字母替换为其对应的“密字”。\n",
    "\n",
    "3、    每个字母只对应一个唯一的“密字”，不同的字母对应不同的“密字”。“密字”可以和原字母相同。\n",
    "\n",
    "例如，若规定‘A’的密字为‘A’，‘B’的密字为‘C’（其他字母及密字略），则原信息“ABA”被加密为“ACA”。\n",
    "\n",
    "现在，小C通过内线掌握了S国网络上发送的一条加密信息及其对应的原信息。小C希望能通过这条信息，破译S国的军用密码。小C的破译过程是这样的：扫描原信息，对于原信息中的字母x（代表任一大写字母），找到其在加密信息中的对应大写字母y，并认为在密码里y是x的密字。如此进行下去直到停止于如下的某个状态：\n",
    "\n",
    "1、    所有信息扫描完毕，‘A’—‘Z’所有26个字母在原信息中均出现过并获得了相应的“密字”。\n",
    "\n",
    "2、    所有信息扫描完毕，但发现存在某个（或某些）字母在原信息中没有出现。\n",
    "\n",
    "3、    扫描中发现掌握的信息里有明显的自相矛盾或错误（违反S过密码的编码规则）。例如某条信息“XYZ”被翻译为“ABA”就违反了“不同字母对应不同密字”的规则。\n",
    "\n",
    "在小C忙得头昏脑胀之际，R国司令部又发来电报，要求他翻译另外一条从S国刚刚截取到的加密信息。现在请你帮助小C：通过内线掌握的信息，尝试破译密码。然后利用破译的密码，翻译电报中的加密信息。\n",
    "\n",
    "输入\n",
    "共3行，每行为一个长度在1到100之间的字符串。\n",
    "第1行为小C掌握的一条加密信息。\n",
    "第2行为第1行的加密信息所对应的原信息。\n",
    "第3行为R国司令部要求小C翻译的加密信息。\n",
    "输入数据保证所有字符串仅由大写字母‘A’—‘Z’构成，且第1行长度与第2行相等。\n",
    "输出\n",
    "共1行。\n",
    "若破译密码停止时出现2，3两种情况，请你输出“Failed”（不含引号，注意首字母大写，其它小写）。\n",
    "否则请输出利用密码翻译电报中加密信息后得到的原信息。\n",
    "样例输入\n",
    "样例 #1：\n",
    "AA\n",
    "AB\n",
    "EOWIE\n",
    "\n",
    "样例 #2：\n",
    "QWERTYUIOPLKJHGFDSAZXCVBN\n",
    "ABCDEFGHIJKLMNOPQRSTUVWXY\n",
    "DSLIEWO\n",
    "\n",
    "样例 #3：\n",
    "MSRTZCJKPFLQYVAWBINXUEDGHOOILSMIJFRCOPPQCEUNYDUMPP\n",
    "YIZSDWAHLNOVFUCERKJXQMGTBPPKOIYKANZWPLLVWMQJFGQYLL\n",
    "FLSO\n",
    "样例输出\n",
    "样例 #1：\n",
    "Failed\n",
    "\n",
    "样例#2：\n",
    "Failed\n",
    "\n",
    "样例#3：\n",
    "NOIP\n",
    "提示\n",
    "输入输出样例1说明：原信息中的字母‘A’和‘B’对应相同的密字，输出“Failed”。\n",
    "\n",
    "输入输出样例2说明：字母‘Z’在原信息中没有出现，输出“Failed”。'''\n",
    "def chk():\n",
    "    m = input()\n",
    "    n = input()\n",
    "    k = input()\n",
    "    d = {}\n",
    "    for i in range(len(m)) :\n",
    "        if (m[i] in d.keys() and d[m[i]] != n[i]) or (n[i] in d.values() and d.get(m[i],' ') != n[i]):\n",
    "            return 'Failed'\n",
    "        d[m[i]] = n[i]\n",
    "    m = len(list(d.keys()))\n",
    "    if m < 26:\n",
    "        return 'Failed'\n",
    "    p = ''\n",
    "    for i in k:\n",
    "        p = p + d[i]\n",
    "    return p\n",
    "print(chk())"
   ]
  },
  {
   "cell_type": "code",
   "execution_count": 8,
   "metadata": {},
   "outputs": [
    {
     "name": "stdin",
     "output_type": "stream",
     "text": [
      " 1234\n"
     ]
    },
    {
     "name": "stdout",
     "output_type": "stream",
     "text": [
      "ceg\n"
     ]
    }
   ],
   "source": [
    "a = list(input())\n",
    "b = int(len(a))\n",
    "for i in range(b-1):\n",
    "    a[i] = chr(ord(a[i])+ord(a[i+1]))\n",
    "a[-1] = chr(ord(a[-1])+ord(a[0]))\n",
    "print(''.join(a))\n",
    "#zq的错误，第一位已经被改过了，会出现下面一个print的情况"
   ]
  },
  {
   "cell_type": "code",
   "execution_count": 7,
   "metadata": {},
   "outputs": [
    {
     "name": "stdout",
     "output_type": "stream",
     "text": [
      "󴉁\n"
     ]
    }
   ],
   "source": [
    "print(chr(1000001))"
   ]
  },
  {
   "cell_type": "code",
   "execution_count": null,
   "metadata": {},
   "outputs": [],
   "source": []
  },
  {
   "cell_type": "code",
   "execution_count": null,
   "metadata": {},
   "outputs": [],
   "source": []
  },
  {
   "cell_type": "code",
   "execution_count": null,
   "metadata": {},
   "outputs": [],
   "source": []
  },
  {
   "cell_type": "code",
   "execution_count": null,
   "metadata": {},
   "outputs": [],
   "source": []
  },
  {
   "cell_type": "code",
   "execution_count": null,
   "metadata": {},
   "outputs": [],
   "source": []
  },
  {
   "cell_type": "code",
   "execution_count": null,
   "metadata": {},
   "outputs": [],
   "source": []
  },
  {
   "cell_type": "code",
   "execution_count": null,
   "metadata": {},
   "outputs": [],
   "source": []
  },
  {
   "cell_type": "code",
   "execution_count": null,
   "metadata": {},
   "outputs": [],
   "source": []
  }
 ],
 "metadata": {
  "kernelspec": {
   "display_name": "Python 3",
   "language": "python",
   "name": "python3"
  },
  "language_info": {
   "codemirror_mode": {
    "name": "ipython",
    "version": 3
   },
   "file_extension": ".py",
   "mimetype": "text/x-python",
   "name": "python",
   "nbconvert_exporter": "python",
   "pygments_lexer": "ipython3",
   "version": "3.6.9"
  }
 },
 "nbformat": 4,
 "nbformat_minor": 4
}
