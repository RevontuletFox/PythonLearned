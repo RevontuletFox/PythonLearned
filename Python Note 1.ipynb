{
 "cells": [
  {
   "cell_type": "code",
   "execution_count": 1,
   "metadata": {},
   "outputs": [
    {
     "name": "stdin",
     "output_type": "stream",
     "text": [
      " 1 3\n"
     ]
    },
    {
     "name": "stdout",
     "output_type": "stream",
     "text": [
      "4\n"
     ]
    }
   ],
   "source": [
    "A = input()\n",
    "A,B = A.split(\" \",1)\n",
    "A = int(A);B = int(B)\n",
    "print(A+B)\n",
    "#输入用空格隔开的A和B，相加再输出"
   ]
  },
  {
   "cell_type": "code",
   "execution_count": 2,
   "metadata": {},
   "outputs": [
    {
     "name": "stdin",
     "output_type": "stream",
     "text": [
      " 3.888\n"
     ]
    },
    {
     "name": "stdout",
     "output_type": "stream",
     "text": [
      "246.06\n"
     ]
    }
   ],
   "source": [
    "r = float(input()) \n",
    "V = 4/3*3.14*r**3\n",
    "print(\"%.2f\" % V )\n",
    "#球的体积（必须用给的公式）输出的东西保留2位小数 float漂浮，浮点吧"
   ]
  },
  {
   "cell_type": "code",
   "execution_count": 3,
   "metadata": {},
   "outputs": [
    {
     "name": "stdin",
     "output_type": "stream",
     "text": [
      " 3.998797897\n"
     ]
    },
    {
     "name": "stdout",
     "output_type": "stream",
     "text": [
      "3.999\n"
     ]
    }
   ],
   "source": [
    "a = input()\n",
    "a = float(a)\n",
    "print(\"%.3f\" % a )\n",
    "#切一个多位小数，留3位\n",
    "#\"%.3f\" % a 百分号的位置"
   ]
  },
  {
   "cell_type": "code",
   "execution_count": 5,
   "metadata": {},
   "outputs": [
    {
     "name": "stdin",
     "output_type": "stream",
     "text": [
      " *\n"
     ]
    },
    {
     "name": "stdout",
     "output_type": "stream",
     "text": [
      "  *\n",
      " ***\n",
      "*****\n"
     ]
    }
   ],
   "source": [
    "a=input()\n",
    "print(\"  \"+a)\n",
    "print(\" \"+a+a+a)\n",
    "print(a+a+a+a+a)\n",
    "#字符三角形"
   ]
  },
  {
   "cell_type": "code",
   "execution_count": 10,
   "metadata": {},
   "outputs": [
    {
     "name": "stdin",
     "output_type": "stream",
     "text": [
      " *\n"
     ]
    },
    {
     "name": "stdout",
     "output_type": "stream",
     "text": [
      "  *\n",
      " ***\n",
      "*****\n",
      " ***\n",
      "  *\n"
     ]
    }
   ],
   "source": [
    "a=input()\n",
    "print(\"  \"+a)\n",
    "print(\" \"+a+a+a)\n",
    "print(a+a+a+a+a)\n",
    "print(\" \"+a+a+a)\n",
    "print(\"  \"+a)\n",
    "#字符菱形"
   ]
  },
  {
   "cell_type": "code",
   "execution_count": 6,
   "metadata": {},
   "outputs": [
    {
     "name": "stdin",
     "output_type": "stream",
     "text": [
      " 3 5\n"
     ]
    },
    {
     "name": "stdout",
     "output_type": "stream",
     "text": [
      "3\n"
     ]
    }
   ],
   "source": [
    "A = input()\n",
    "A = A.split(\" \",1)[0]\n",
    "print(A)\n",
    "#尝试仅选择输出的单项,左1项序号为0"
   ]
  },
  {
   "cell_type": "code",
   "execution_count": 9,
   "metadata": {},
   "outputs": [
    {
     "name": "stdin",
     "output_type": "stream",
     "text": [
      "  www.baidu.com\n"
     ]
    },
    {
     "name": "stdout",
     "output_type": "stream",
     "text": [
      " www baidu com\n"
     ]
    }
   ],
   "source": [
    "#分割网址\n",
    "A = input()\n",
    "A,B,C = A.split(\".\",2)\n",
    "#spilt参数顺序 分隔符，分割次数，（选择项）\n",
    "print(A,B,C)"
   ]
  },
  {
   "cell_type": "code",
   "execution_count": 1,
   "metadata": {},
   "outputs": [
    {
     "data": {
      "text/plain": [
       "1"
      ]
     },
     "execution_count": 1,
     "metadata": {},
     "output_type": "execute_result"
    }
   ],
   "source": [
    "7%2\n",
    "#%在这里起到取余数的作用，如果用7/2则得到3，舍掉余数，而不是四舍五入"
   ]
  },
  {
   "cell_type": "code",
   "execution_count": 11,
   "metadata": {},
   "outputs": [
    {
     "data": {
      "text/plain": [
       "'......'"
      ]
     },
     "execution_count": 11,
     "metadata": {},
     "output_type": "execute_result"
    }
   ],
   "source": [
    "'.'* 6\n",
    "#在进行表示字符时，引号无论单双必须是英文输入法下的。 单个字符可以通过乘法来显示多个，但是不能乘以浮点数（没有意义）"
   ]
  },
  {
   "cell_type": "code",
   "execution_count": 16,
   "metadata": {},
   "outputs": [
    {
     "name": "stdout",
     "output_type": "stream",
     "text": [
      "'hello'\n",
      "'hello'\n",
      "\\hello\n"
     ]
    }
   ],
   "source": [
    "print('\\'hello\\'')\n",
    "print(\"'hello'\")\n",
    "print('\\\\hello')\n",
    "#反斜杠作为转义符"
   ]
  },
  {
   "cell_type": "code",
   "execution_count": 17,
   "metadata": {},
   "outputs": [
    {
     "data": {
      "text/plain": [
       "1"
      ]
     },
     "execution_count": 17,
     "metadata": {},
     "output_type": "execute_result"
    }
   ],
   "source": [
    "int(1.99)"
   ]
  },
  {
   "cell_type": "code",
   "execution_count": 20,
   "metadata": {},
   "outputs": [
    {
     "name": "stdin",
     "output_type": "stream",
     "text": [
      " hhhhhh kkkkk\n"
     ]
    },
    {
     "name": "stdout",
     "output_type": "stream",
     "text": [
      "hhhhhh kkkkk\n"
     ]
    }
   ],
   "source": [
    "a,b=input().split(\" \")\n",
    "print(a,b)\n",
    "#注意split不要打错了\n",
    "#注意到这里两个项目用print()分别显示时其中插入了一条空格"
   ]
  },
  {
   "cell_type": "code",
   "execution_count": 1,
   "metadata": {},
   "outputs": [
    {
     "data": {
      "text/plain": [
       "False"
      ]
     },
     "execution_count": 1,
     "metadata": {},
     "output_type": "execute_result"
    }
   ],
   "source": [
    "42 != 42.0\n"
   ]
  },
  {
   "cell_type": "code",
   "execution_count": 2,
   "metadata": {},
   "outputs": [
    {
     "data": {
      "text/plain": [
       "False"
      ]
     },
     "execution_count": 2,
     "metadata": {},
     "output_type": "execute_result"
    }
   ],
   "source": [
    "39==40\n"
   ]
  },
  {
   "cell_type": "code",
   "execution_count": 3,
   "metadata": {},
   "outputs": [
    {
     "data": {
      "text/plain": [
       "False"
      ]
     },
     "execution_count": 3,
     "metadata": {},
     "output_type": "execute_result"
    }
   ],
   "source": [
    "4+1!=5\n"
   ]
  },
  {
   "cell_type": "code",
   "execution_count": 4,
   "metadata": {},
   "outputs": [
    {
     "data": {
      "text/plain": [
       "True"
      ]
     },
     "execution_count": 4,
     "metadata": {},
     "output_type": "execute_result"
    }
   ],
   "source": [
    "4+1>=5"
   ]
  },
  {
   "cell_type": "code",
   "execution_count": 2,
   "metadata": {},
   "outputs": [
    {
     "name": "stdout",
     "output_type": "stream",
     "text": [
      "True\n"
     ]
    }
   ],
   "source": [
    "a = True\n",
    "print(a)\n",
    "#可以看到存储了布尔的a是输出的True，而不是1，说明在Python语言中的True是区别 于数字存在的"
   ]
  },
  {
   "cell_type": "code",
   "execution_count": 4,
   "metadata": {},
   "outputs": [
    {
     "name": "stdout",
     "output_type": "stream",
     "text": [
      "True\n",
      "False\n"
     ]
    }
   ],
   "source": [
    "a=100\n",
    "print(bool(a))\n",
    "a=0\n",
    "print(bool(a))"
   ]
  },
  {
   "cell_type": "code",
   "execution_count": 5,
   "metadata": {},
   "outputs": [
    {
     "name": "stdin",
     "output_type": "stream",
     "text": [
      " 9 8 7\n"
     ]
    },
    {
     "name": "stdout",
     "output_type": "stream",
     "text": [
      "8\n"
     ]
    }
   ],
   "source": [
    "a = input()\n",
    "a = a.split(\" \",2)[1]\n",
    "print(a)\n",
    "#输出中间的数"
   ]
  },
  {
   "cell_type": "code",
   "execution_count": 3,
   "metadata": {},
   "outputs": [
    {
     "name": "stdin",
     "output_type": "stream",
     "text": [
      " hello\n",
      " 9\n",
      " 9.876686867876\n"
     ]
    },
    {
     "name": "stdout",
     "output_type": "stream",
     "text": [
      "hello 9 9.876687\n"
     ]
    }
   ],
   "source": [
    "a = input()\n",
    "b = input()\n",
    "c = float(input())\n",
    "print(a+\" \"+b+\" \"+\"%.6f\" % c)\n",
    "#读入一个字符串，一个整数，一个浮点数，然后按顺序输出它们，并且要求在他们之间用一个空格分隔。输出浮点数时保留6位小数。"
   ]
  },
  {
   "cell_type": "code",
   "execution_count": 4,
   "metadata": {},
   "outputs": [
    {
     "name": "stdin",
     "output_type": "stream",
     "text": [
      " 9.9999999\n"
     ]
    },
    {
     "name": "stdout",
     "output_type": "stream",
     "text": [
      "9.999\n"
     ]
    }
   ],
   "source": [
    "x = float(input())\n",
    "x = x*1000\n",
    "x = int(x)\n",
    "x = float(x)\n",
    "x = x/1000\n",
    "print(\"%.3f\" % x)\n",
    "#输入一个正浮点数，保留3位小数，舍弃多余的数字。\n",
    "#注意，这里是保留3位，舍去剩下的数字，而不是通过四舍五入的方式保留3位有效数字。\n",
    "#使用.3f控制符只能实现四舍五入，例如print('%.3f'%3.9999999)，会输出4.000\n",
    "#如果小数位数不足3位，请用0补足"
   ]
  },
  {
   "cell_type": "code",
   "execution_count": 10,
   "metadata": {},
   "outputs": [
    {
     "name": "stdin",
     "output_type": "stream",
     "text": [
      " 298\n"
     ]
    },
    {
     "name": "stdout",
     "output_type": "stream",
     "text": [
      "892\n"
     ]
    }
   ],
   "source": [
    "x = float(input())\n",
    "a = int(x/100)\n",
    "b = int(x-100*a)\n",
    "b = int(b/10)\n",
    "c = int(x-100*a-10*b)\n",
    "a = str(a);b = str(b);c = str(c)\n",
    "print(c+b+a)\n",
    "#反向输出一个3位数"
   ]
  },
  {
   "cell_type": "code",
   "execution_count": 6,
   "metadata": {},
   "outputs": [
    {
     "name": "stdin",
     "output_type": "stream",
     "text": [
      " 10 4 9\n"
     ]
    },
    {
     "name": "stdout",
     "output_type": "stream",
     "text": [
      "7\n"
     ]
    }
   ],
   "source": [
    "x = input()\n",
    "n,x,y = x.split(\" \",2)\n",
    "n = float(n)\n",
    "x = int(x)\n",
    "y = int(y)\n",
    "n = n-y/x\n",
    "n = int(n)\n",
    "print(n)\n",
    "#你买了一箱n个苹果，很不幸的是买完时箱子里混进了一条虫子。虫子每x小时能吃掉一个苹果\n",
    "#假设虫子在吃完一个苹果之前不会吃另一个，那么经过y小时你还有多少个完整的苹果？\n",
    "#输入仅一行，包括n，x和y（均为整数）。输入数据保证y <= n * x。\n",
    "#输出也仅一行，剩下的苹果个数"
   ]
  },
  {
   "cell_type": "code",
   "execution_count": 7,
   "metadata": {},
   "outputs": [
    {
     "name": "stdin",
     "output_type": "stream",
     "text": [
      " 10000\n"
     ]
    },
    {
     "name": "stdout",
     "output_type": "stream",
     "text": [
      "02:46:40\n"
     ]
    }
   ],
   "source": [
    "n = int(input())\n",
    "h = int(n/3600)\n",
    "m = int((n-3600*h)/60)\n",
    "s = n-3600*h-60*m\n",
    "print('%02d'%h+\":\"+'%02d'%m+\":\"+'%02d'%s)\n",
    "#根据输入的总秒数，计算这个时间合计多少小时，多少分钟，多少秒，按照hh:mm:ss格式输出，不足两位数，要用0补齐。\n",
    "#其中总的时长不会超过99小时。"
   ]
  },
  {
   "cell_type": "code",
   "execution_count": 10,
   "metadata": {},
   "outputs": [
    {
     "name": "stdin",
     "output_type": "stream",
     "text": [
      " 73.263 0.9973\n"
     ]
    },
    {
     "name": "stdout",
     "output_type": "stream",
     "text": [
      "0.46010000000000933\n"
     ]
    }
   ],
   "source": [
    "a = input()\n",
    "a,b = a.split(\" \",1)\n",
    "a = 100000*float(a) ; b = 100000*float(b)\n",
    "a = a%b\n",
    "a = a / 100000\n",
    "print(a)\n",
    "#计算浮点数相除的余数"
   ]
  },
  {
   "cell_type": "code",
   "execution_count": 8,
   "metadata": {},
   "outputs": [
    {
     "name": "stdin",
     "output_type": "stream",
     "text": [
      " 9999\n"
     ]
    },
    {
     "ename": "TypeError",
     "evalue": "unsupported operand type(s) for +: 'int' and 'str'",
     "output_type": "error",
     "traceback": [
      "\u001b[0;31m---------------------------------------------------------------------------\u001b[0m",
      "\u001b[0;31mTypeError\u001b[0m                                 Traceback (most recent call last)",
      "\u001b[0;32m<ipython-input-8-0abd0e94bbfb>\u001b[0m in \u001b[0;36m<module>\u001b[0;34m\u001b[0m\n\u001b[1;32m      1\u001b[0m \u001b[0;31m#print()里面的变量不能是整形。。。吧?存疑！\u001b[0m\u001b[0;34m\u001b[0m\u001b[0;34m\u001b[0m\u001b[0;34m\u001b[0m\u001b[0m\n\u001b[1;32m      2\u001b[0m \u001b[0ma\u001b[0m \u001b[0;34m=\u001b[0m \u001b[0mint\u001b[0m\u001b[0;34m(\u001b[0m\u001b[0minput\u001b[0m\u001b[0;34m(\u001b[0m\u001b[0;34m)\u001b[0m\u001b[0;34m)\u001b[0m\u001b[0;34m\u001b[0m\u001b[0;34m\u001b[0m\u001b[0m\n\u001b[0;32m----> 3\u001b[0;31m \u001b[0mprint\u001b[0m\u001b[0;34m(\u001b[0m\u001b[0ma\u001b[0m\u001b[0;34m+\u001b[0m\u001b[0;34m\" \"\u001b[0m\u001b[0;34m)\u001b[0m\u001b[0;34m\u001b[0m\u001b[0;34m\u001b[0m\u001b[0m\n\u001b[0m",
      "\u001b[0;31mTypeError\u001b[0m: unsupported operand type(s) for +: 'int' and 'str'"
     ]
    }
   ],
   "source": [
    "#print()里面的数变量不能与字符串相加\n",
    "a = int(input())\n",
    "print(a+\" \")"
   ]
  },
  {
   "cell_type": "code",
   "execution_count": 18,
   "metadata": {},
   "outputs": [
    {
     "name": "stdin",
     "output_type": "stream",
     "text": [
      " 73.263 0.9973\n"
     ]
    },
    {
     "name": "stdout",
     "output_type": "stream",
     "text": [
      "0.46009999999997586 73\n"
     ]
    }
   ],
   "source": [
    "a,b = input().split()\n",
    "i = 0\n",
    "a = float(a);b = float(b)\n",
    "while True:\n",
    "    if a<b :\n",
    "        break\n",
    "    a = a-b;i = i + 1\n",
    "print(a,i)"
   ]
  },
  {
   "cell_type": "code",
   "execution_count": 16,
   "metadata": {},
   "outputs": [
    {
     "name": "stdin",
     "output_type": "stream",
     "text": [
      " 73.263 0.9973\n"
     ]
    },
    {
     "name": "stdout",
     "output_type": "stream",
     "text": [
      "0.46009999999997586\n"
     ]
    }
   ],
   "source": [
    "a,b = input().split()\n",
    "a = float(a);b = float(b)\n",
    "while True:\n",
    "    a = a-b\n",
    "    if a<b :\n",
    "        break\n",
    "print(a)\n",
    "#浮点在小数点后面多位的时候已经不准确的了，浮点数多次运算会累积误差，运算次数越多，可能的误差越大"
   ]
  },
  {
   "cell_type": "code",
   "execution_count": 1,
   "metadata": {},
   "outputs": [
    {
     "name": "stdin",
     "output_type": "stream",
     "text": [
      " 73.263 0.9973\n"
     ]
    },
    {
     "name": "stdout",
     "output_type": "stream",
     "text": [
      "0.4601\n"
     ]
    }
   ],
   "source": [
    "a,b  = input().split(\" \",1)\n",
    "a = float(a)*100000;b = float(b)*100000\n",
    "while True:\n",
    "    a = a-b\n",
    "    if a<b :\n",
    "        break\n",
    "a = int(a)\n",
    "print(a/100000)\n",
    "#这样也可以实现上述功能，转化为较大的整数可以避免浮点所带来的不准确性。"
   ]
  },
  {
   "cell_type": "code",
   "execution_count": 3,
   "metadata": {},
   "outputs": [
    {
     "name": "stdin",
     "output_type": "stream",
     "text": [
      " 9\n"
     ]
    },
    {
     "name": "stdout",
     "output_type": "stream",
     "text": [
      "9.000\n"
     ]
    }
   ],
   "source": [
    "a = float(input())\n",
    "print(\"%.3f\" % a)"
   ]
  },
  {
   "cell_type": "code",
   "execution_count": 2,
   "metadata": {},
   "outputs": [
    {
     "name": "stdin",
     "output_type": "stream",
     "text": [
      " 3661\n"
     ]
    },
    {
     "name": "stdout",
     "output_type": "stream",
     "text": [
      "01:1:1\n"
     ]
    }
   ],
   "source": [
    "n = int(input())\n",
    "hh = n//3600\n",
    "mm = n%3600//60\n",
    "ss = n%60\n",
    "hh ='%02d'%hh\n",
    "print(str(hh)+':'+str(mm)+':'+str(ss))\n",
    "#赵全的程序错误点"
   ]
  },
  {
   "cell_type": "code",
   "execution_count": 3,
   "metadata": {},
   "outputs": [
    {
     "name": "stdin",
     "output_type": "stream",
     "text": [
      " 3661\n"
     ]
    },
    {
     "name": "stdout",
     "output_type": "stream",
     "text": [
      "01:01:01\n"
     ]
    }
   ],
   "source": [
    "n = int(input())\n",
    "hh = n//3600\n",
    "mm = n%3600//60\n",
    "ss = n%60\n",
    "hh ='%02d'%hh\n",
    "mm ='%02d'%mm\n",
    "ss ='%02d'%ss\n",
    "print(str(hh)+':'+str(mm)+':'+str(ss))"
   ]
  },
  {
   "cell_type": "code",
   "execution_count": 4,
   "metadata": {},
   "outputs": [
    {
     "data": {
      "text/plain": [
       "True"
      ]
     },
     "execution_count": 4,
     "metadata": {},
     "output_type": "execute_result"
    }
   ],
   "source": [
    "bool(-1)"
   ]
  },
  {
   "cell_type": "code",
   "execution_count": null,
   "metadata": {},
   "outputs": [],
   "source": []
  }
 ],
 "metadata": {
  "kernelspec": {
   "display_name": "Python 3 (ipykernel)",
   "language": "python",
   "name": "python3"
  },
  "language_info": {
   "codemirror_mode": {
    "name": "ipython",
    "version": 3
   },
   "file_extension": ".py",
   "mimetype": "text/x-python",
   "name": "python",
   "nbconvert_exporter": "python",
   "pygments_lexer": "ipython3",
   "version": "3.11.9"
  }
 },
 "nbformat": 4,
 "nbformat_minor": 4
}
