{
 "cells": [
  {
   "cell_type": "code",
   "execution_count": 1,
   "metadata": {},
   "outputs": [
    {
     "name": "stdin",
     "output_type": "stream",
     "text": [
      " \n"
     ]
    }
   ],
   "source": [
    "def chk(p):\n",
    "    if p == 'A':\n",
    "        return 'T'\n",
    "    elif p == 'T':\n",
    "        return 'A'\n",
    "    elif p == 'C':\n",
    "        return 'G'\n",
    "    else:\n",
    "        return 'C'\n",
    "l = list(input())\n",
    "for i in l:\n",
    "    print(chk(i),end = '')\n"
   ]
  },
  {
   "cell_type": "code",
   "execution_count": 3,
   "metadata": {},
   "outputs": [
    {
     "name": "stdin",
     "output_type": "stream",
     "text": [
      " Peking University is set up at 1898.\n"
     ]
    },
    {
     "name": "stdout",
     "output_type": "stream",
     "text": [
      "4\n"
     ]
    }
   ],
   "source": [
    "def chk(p):\n",
    "    if p == '1' or p == '2' or p == '3' or p == '4' or p == '5' or p == '6' or p == '7' or p == '8' or p == '9' or p == '0':\n",
    "        return 1\n",
    "    else:\n",
    "        return 0\n",
    "n = list(input()); s = 0\n",
    "for i in n:\n",
    "    s = s + chk(i)\n",
    "print(s)"
   ]
  },
  {
   "cell_type": "code",
   "execution_count": 20,
   "metadata": {},
   "outputs": [
    {
     "name": "stdin",
     "output_type": "stream",
     "text": [
      " ppxxdqqq\n"
     ]
    },
    {
     "name": "stdout",
     "output_type": "stream",
     "text": [
      "d\n"
     ]
    }
   ],
   "source": [
    "l = list(input())\n",
    "def chk(l):\n",
    "    p = len(l)\n",
    "    for i in range(p):\n",
    "        if l[i] not in l[i+1:p]and l[i] not in l[0:i]:\n",
    "            return l[i]\n",
    "    return 'no'\n",
    "print(chk(l))"
   ]
  },
  {
   "cell_type": "code",
   "execution_count": 14,
   "metadata": {},
   "outputs": [
    {
     "data": {
      "text/plain": [
       "[]"
      ]
     },
     "execution_count": 14,
     "metadata": {},
     "output_type": "execute_result"
    }
   ],
   "source": [
    "[1,2,3][3:3]"
   ]
  },
  {
   "cell_type": "code",
   "execution_count": null,
   "metadata": {},
   "outputs": [],
   "source": [
    "l = list(input()); p = []; d = []\n",
    "for i in l:\n",
    "    if i in p:\n",
    "        del p[p.index(i)]\n",
    "        d = d + [i]\n",
    "    elif i not in d:\n",
    "        p = p + [i]\n",
    "if p == []:\n",
    "    print('no')\n",
    "else:\n",
    "    print(p[0])"
   ]
  },
  {
   "cell_type": "code",
   "execution_count": 27,
   "metadata": {},
   "outputs": [
    {
     "name": "stdin",
     "output_type": "stream",
     "text": [
      " Gho\n"
     ]
    },
    {
     "name": "stdout",
     "output_type": "stream",
     "text": [
      "g\n",
      "gHO\n"
     ]
    }
   ],
   "source": [
    "l = list(input())\n",
    "for i in range(len(l)):\n",
    "    if l[i] == l[i].upper():\n",
    "        l[i] = l[i].lower()\n",
    "    else:\n",
    "        l[i] = l[i].upper()\n",
    "print(''.join(l))"
   ]
  },
  {
   "cell_type": "code",
   "execution_count": null,
   "metadata": {},
   "outputs": [],
   "source": [
    "def chk():\n",
    "    l = list(input())\n",
    "    p = l.copy()\n",
    "    t = 0\n",
    "    del p[1]\n",
    "    del p[4]\n",
    "    del p[9]\n",
    "    for i in range(9):\n",
    "        t = t + int(p[i])*(i+1)\n",
    "    t = t % 11\n",
    "    if t == 10:\n",
    "        t = 'X'\n",
    "    else:\n",
    "        t = str(t)\n",
    "    if t == p[9]:\n",
    "        return 'Right'\n",
    "    else:\n",
    "        l[12] = str(t)\n",
    "        return ''.join(l)\n",
    "print(chk())"
   ]
  },
  {
   "cell_type": "code",
   "execution_count": 3,
   "metadata": {},
   "outputs": [
    {
     "data": {
      "text/plain": [
       "False"
      ]
     },
     "execution_count": 3,
     "metadata": {},
     "output_type": "execute_result"
    }
   ],
   "source": [
    "[] == ''"
   ]
  },
  {
   "cell_type": "code",
   "execution_count": null,
   "metadata": {},
   "outputs": [],
   "source": [
    "a = list(input())\n",
    "b = list(input())\n",
    "def chk(a,b):\n",
    "    p = len(a); q = len(b)\n",
    "    if a == b:\n",
    "        return True\n",
    "    elif p == 0 and q != 0:\n",
    "        return False\n",
    "    elif a == ['*']:\n",
    "        return True\n",
    "    elif q == 0:\n",
    "        if a[0] == '*':\n",
    "            return chk(a[1:],b)\n",
    "        else:\n",
    "            return False\n",
    "    if a[0] == '?' or a[0] == b[0]:\n",
    "        return chk(a[1:],b[1:])\n",
    "    elif a[0] == '*':\n",
    "        return chk(a,b[1:]) or chk(a[1:],b)\n",
    "    else:\n",
    "        return False\n",
    "if chk(a,b) == True:\n",
    "    print('matched')\n",
    "else:\n",
    "    print('not matched')"
   ]
  },
  {
   "cell_type": "code",
   "execution_count": null,
   "metadata": {},
   "outputs": [],
   "source": []
  },
  {
   "cell_type": "code",
   "execution_count": null,
   "metadata": {},
   "outputs": [],
   "source": []
  },
  {
   "cell_type": "code",
   "execution_count": null,
   "metadata": {},
   "outputs": [],
   "source": []
  },
  {
   "cell_type": "code",
   "execution_count": null,
   "metadata": {},
   "outputs": [],
   "source": []
  },
  {
   "cell_type": "code",
   "execution_count": null,
   "metadata": {},
   "outputs": [],
   "source": []
  },
  {
   "cell_type": "code",
   "execution_count": null,
   "metadata": {},
   "outputs": [],
   "source": []
  },
  {
   "cell_type": "code",
   "execution_count": null,
   "metadata": {},
   "outputs": [],
   "source": []
  },
  {
   "cell_type": "code",
   "execution_count": null,
   "metadata": {},
   "outputs": [],
   "source": []
  },
  {
   "cell_type": "code",
   "execution_count": null,
   "metadata": {},
   "outputs": [],
   "source": []
  },
  {
   "cell_type": "code",
   "execution_count": null,
   "metadata": {},
   "outputs": [],
   "source": []
  },
  {
   "cell_type": "code",
   "execution_count": null,
   "metadata": {},
   "outputs": [],
   "source": []
  },
  {
   "cell_type": "code",
   "execution_count": null,
   "metadata": {},
   "outputs": [],
   "source": []
  },
  {
   "cell_type": "code",
   "execution_count": null,
   "metadata": {},
   "outputs": [],
   "source": []
  },
  {
   "cell_type": "code",
   "execution_count": null,
   "metadata": {},
   "outputs": [],
   "source": []
  },
  {
   "cell_type": "code",
   "execution_count": null,
   "metadata": {},
   "outputs": [],
   "source": []
  },
  {
   "cell_type": "code",
   "execution_count": null,
   "metadata": {},
   "outputs": [],
   "source": []
  },
  {
   "cell_type": "code",
   "execution_count": null,
   "metadata": {},
   "outputs": [],
   "source": []
  },
  {
   "cell_type": "code",
   "execution_count": null,
   "metadata": {},
   "outputs": [],
   "source": []
  },
  {
   "cell_type": "code",
   "execution_count": null,
   "metadata": {},
   "outputs": [],
   "source": []
  },
  {
   "cell_type": "code",
   "execution_count": null,
   "metadata": {},
   "outputs": [],
   "source": []
  },
  {
   "cell_type": "code",
   "execution_count": null,
   "metadata": {},
   "outputs": [],
   "source": []
  },
  {
   "cell_type": "code",
   "execution_count": null,
   "metadata": {},
   "outputs": [],
   "source": []
  },
  {
   "cell_type": "code",
   "execution_count": null,
   "metadata": {},
   "outputs": [],
   "source": []
  },
  {
   "cell_type": "code",
   "execution_count": null,
   "metadata": {},
   "outputs": [],
   "source": []
  },
  {
   "cell_type": "code",
   "execution_count": null,
   "metadata": {},
   "outputs": [],
   "source": []
  },
  {
   "cell_type": "code",
   "execution_count": null,
   "metadata": {},
   "outputs": [],
   "source": []
  },
  {
   "cell_type": "code",
   "execution_count": null,
   "metadata": {},
   "outputs": [],
   "source": []
  }
 ],
 "metadata": {
  "kernelspec": {
   "display_name": "Python 3",
   "language": "python",
   "name": "python3"
  },
  "language_info": {
   "codemirror_mode": {
    "name": "ipython",
    "version": 3
   },
   "file_extension": ".py",
   "mimetype": "text/x-python",
   "name": "python",
   "nbconvert_exporter": "python",
   "pygments_lexer": "ipython3",
   "version": "3.7.3"
  }
 },
 "nbformat": 4,
 "nbformat_minor": 4
}
