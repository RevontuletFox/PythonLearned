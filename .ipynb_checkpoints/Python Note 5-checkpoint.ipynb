{
 "cells": [
  {
   "cell_type": "code",
   "execution_count": 4,
   "metadata": {},
   "outputs": [
    {
     "name": "stdin",
     "output_type": "stream",
     "text": [
      " 3\n",
      " 1 4 6\n",
      " 2 1 5\n"
     ]
    },
    {
     "name": "stdout",
     "output_type": "stream",
     "text": [
      "36\n"
     ]
    }
   ],
   "source": [
    "n = int(input()); t = 0\n",
    "a = input().split()\n",
    "b = input().split()\n",
    "for i in range(n):\n",
    "    t = t + int(a[i])*int(b[i])\n",
    "print(t)"
   ]
  },
  {
   "cell_type": "code",
   "execution_count": 7,
   "metadata": {},
   "outputs": [
    {
     "name": "stdin",
     "output_type": "stream",
     "text": [
      " 5\n",
      " 10 12 93 12 75\n"
     ]
    },
    {
     "name": "stdout",
     "output_type": "stream",
     "text": [
      "10 12 93 75\n"
     ]
    }
   ],
   "source": [
    "#思路1\n",
    "n = int(input())\n",
    "l = input().split()\n",
    "x = l.copy()#直接赋值会出问题\n",
    "for i in range(n):\n",
    "    t = x[i]\n",
    "    d = l.index(t)\n",
    "    while t in l:\n",
    "        del(l[l.index(t)])\n",
    "    l.insert(d,t)\n",
    "for x in range(len(l)-1):\n",
    "    print(l[x],end=' ')\n",
    "print(l[len(l)-1])"
   ]
  },
  {
   "cell_type": "code",
   "execution_count": 4,
   "metadata": {},
   "outputs": [
    {
     "name": "stdin",
     "output_type": "stream",
     "text": [
      " 10\n",
      " 1 1 1 1 1 1 1 1 1 1\n"
     ]
    },
    {
     "name": "stdout",
     "output_type": "stream",
     "text": [
      "1\n",
      "1\n",
      "1\n",
      "1\n",
      "1\n",
      "1\n",
      "1\n",
      "1 1 1\n"
     ]
    }
   ],
   "source": [
    "#思路2\n",
    "n = int(input())\n",
    "t = 1-n\n",
    "l = input().split()\n",
    "x = 1\n",
    "while t != -1:\n",
    "    j = l[t]\n",
    "    for i in range(t+1,-1,1):\n",
    "        if l[i] == j:\n",
    "            print(l[i])\n",
    "            del(l[i])\n",
    "    n = len(l)\n",
    "    t = 1 - n + x\n",
    "    x = x + 1\n",
    "for i in range(n-1):\n",
    "    print(l[i],end=' ')\n",
    "print(l[n-1])"
   ]
  },
  {
   "cell_type": "code",
   "execution_count": 7,
   "metadata": {},
   "outputs": [],
   "source": [
    "ls = [int(i) for i in ls]#全变int\n",
    "#如果是目标值就把目标值变为1,不是就变0"
   ]
  },
  {
   "cell_type": "code",
   "execution_count": 12,
   "metadata": {},
   "outputs": [
    {
     "name": "stdin",
     "output_type": "stream",
     "text": [
      " 5\n",
      " 10 12 93 12 75\n"
     ]
    },
    {
     "name": "stdout",
     "output_type": "stream",
     "text": [
      "['10', '12', '93', '75']\n",
      "10 93 75"
     ]
    }
   ],
   "source": [
    "#思路3\n",
    "n = int(input())\n",
    "l = input().split()\n",
    "s = []\n",
    "for i in range(n):\n",
    "    if l[i] not in s:\n",
    "        s = s + [l[i]]\n",
    "print(s[0],end = '')\n",
    "for i in range(1,len(s)):\n",
    "    print(' ' + s[i],end='')"
   ]
  },
  {
   "cell_type": "code",
   "execution_count": 12,
   "metadata": {},
   "outputs": [
    {
     "name": "stdin",
     "output_type": "stream",
     "text": [
      " 13\n",
      " 1 1 1 1 1 1 1 1 1 1 1 1 1 \n"
     ]
    },
    {
     "name": "stdout",
     "output_type": "stream",
     "text": [
      "0\n",
      "13\n"
     ]
    }
   ],
   "source": [
    "#for i in ls: result[i] = result[i] + 1\n",
    "#法1,超时,扫描方法安排不合理\n",
    "n = int(input())\n",
    "l = input().split()\n",
    "l = [int(i) for i in l]\n",
    "m = max(l)\n",
    "d = {}\n",
    "x = 0\n",
    "for i in range(m + 1):\n",
    "    for t in range(n):\n",
    "        if l[t] == i:\n",
    "            x = x + 1\n",
    "    d[i] = x\n",
    "    x = 0\n",
    "for i in range(m + 1):\n",
    "    print(d[i])"
   ]
  },
  {
   "cell_type": "code",
   "execution_count": 5,
   "metadata": {},
   "outputs": [
    {
     "data": {
      "text/plain": [
       "{1: [1]}"
      ]
     },
     "execution_count": 5,
     "metadata": {},
     "output_type": "execute_result"
    }
   ],
   "source": [
    "d = {1:[1]}\n",
    "d"
   ]
  },
  {
   "cell_type": "code",
   "execution_count": null,
   "metadata": {},
   "outputs": [],
   "source": []
  },
  {
   "cell_type": "code",
   "execution_count": null,
   "metadata": {},
   "outputs": [],
   "source": [
    "' '.join(s1)#连接列表里的元素"
   ]
  },
  {
   "cell_type": "code",
   "execution_count": null,
   "metadata": {},
   "outputs": [],
   "source": [
    "n,m = input().split()\n",
    "n = int(n); m = int(float(m)*1.5)-1; d = {}; admit = 0; b = []\n",
    "for i in range(n):\n",
    "    x,y = input().split()\n",
    "    y = int(y)\n",
    "    d[y] = d.get(y,[]) + [x]\n",
    "    b = b + [y]\n",
    "l = list(d.keys())\n",
    "l.sort(reverse=True)\n",
    "for i in b:\n",
    "    if i >= m:\n",
    "        admit = admit + 1\n",
    "print(str(b[m]) + ' ' +str(admit))\n",
    "for i in l:\n",
    "    p = d[i]\n",
    "    p.sort()\n",
    "    d[i] = p\n",
    "for i in l:\n",
    "      if i >= m:\n",
    "        for t in range(len(d[i])):\n",
    "            print(str(i)+' '+d[i][t])"
   ]
  },
  {
   "cell_type": "code",
   "execution_count": null,
   "metadata": {},
   "outputs": [],
   "source": [
    "m,n = input().split();l = []\n",
    "m = int(m);n = int(n)\n",
    "for i in range(m):\n",
    "    l = l + input().split()\n",
    "p = l.copy()\n",
    "for i in range(1,m-1):\n",
    "    for j in range(1,n-1):\n",
    "        l[i][j] = str((int(p[i-1][j]) + int(p[i][j-1]) + int(p[i][j+1]) + int(p[i+1][j])))\n",
    "for i in l:\n",
    "    print(' '.join(i))"
   ]
  },
  {
   "cell_type": "code",
   "execution_count": 1,
   "metadata": {},
   "outputs": [
    {
     "data": {
      "text/plain": [
       "75"
      ]
     },
     "execution_count": 1,
     "metadata": {},
     "output_type": "execute_result"
    }
   ],
   "source": []
  },
  {
   "cell_type": "code",
   "execution_count": 15,
   "metadata": {},
   "outputs": [
    {
     "name": "stdin",
     "output_type": "stream",
     "text": [
      " 4 5\n",
      " 100 0 100 0 50\n",
      " 50 100 200 0 0\n",
      " 50 50 100 100 200\n",
      " 100 100 50 50 100\n"
     ]
    },
    {
     "name": "stdout",
     "output_type": "stream",
     "text": [
      "0 0\n",
      "0 1\n",
      "0 2\n",
      "1 0\n",
      "1 1\n",
      "1 2\n",
      "100 0 100 0 50\n",
      "50 80 100 60 0\n",
      "50 80 100 90 200\n",
      "100 100 50 50 100\n"
     ]
    }
   ],
   "source": [
    "m,n = input().split();l = []\n",
    "m = int(m);n = int(n)\n",
    "p = [[]]*(m-2)\n",
    "for i in range(m):\n",
    "    l = l + [input().split()]\n",
    "for i in range(1,m-1):\n",
    "    for j in range(1,n-1):\n",
    "        a = int(l[i-1][j]) + int(l[i][j-1]) + int(l[i][j+1]) + int(l[i+1][j]) + int(l[i][j])\n",
    "        a = float(a/5)\n",
    "        if a % 1 < 0.5:\n",
    "            a = int(a)\n",
    "        else: a = int(a) + 1\n",
    "        p[i-1] =p[i-1] + [str(a)]\n",
    "for i in range(m-2):\n",
    "    for j in range(n-2):\n",
    "        l[i+1][j+1] = p[i][j]\n",
    "for i in l:\n",
    "    print(' '.join(i))"
   ]
  },
  {
   "cell_type": "code",
   "execution_count": null,
   "metadata": {},
   "outputs": [],
   "source": [
    "4 5\n",
    "100 0 100 0 50\n",
    "50 100 200 0 0\n",
    "50 50 100 100 200\n",
    "100 100 50 50 100"
   ]
  },
  {
   "cell_type": "code",
   "execution_count": 39,
   "metadata": {},
   "outputs": [
    {
     "name": "stdin",
     "output_type": "stream",
     "text": [
      " 3 3\n",
      " *??\n",
      " ???\n",
      " ?*?\n"
     ]
    },
    {
     "name": "stdout",
     "output_type": "stream",
     "text": [
      "*10\n",
      "221\n",
      "1*1\n"
     ]
    }
   ],
   "source": [
    "m,n = input().split()\n",
    "m = int(m); n = int(n); l = []; p = [[]]*m\n",
    "for i in range(m):\n",
    "    l = l + [['?']+list(input())+['?']]\n",
    "l = [['?']*(n+2)] + l + [['?']*(n+2)]\n",
    "for i in range(1,m+1):\n",
    "    for j in range(1,n+1):\n",
    "        k = 0\n",
    "        if l[i][j] == '?':\n",
    "            if l[i-1][j] == '*':\n",
    "                k = k + 1\n",
    "            if l[i-1][j-1] == '*':\n",
    "                k = k + 1\n",
    "            if l[i-1][j+1] == '*':\n",
    "                k = k + 1\n",
    "            if l[i][j-1] == '*':\n",
    "                k = k + 1\n",
    "            if l[i][j+1] == '*':\n",
    "                k = k + 1\n",
    "            if l[i+1][j-1] == '*':\n",
    "                k = k + 1\n",
    "            if l[i+1][j] == '*':\n",
    "                k = k + 1\n",
    "            if l[i+1][j+1] == '*':\n",
    "                k = k + 1\n",
    "            l[i][j] = str(k)\n",
    "for i in range(0,m):\n",
    "    for j in range(0,n):\n",
    "        a = str(l[i+1][j+1])\n",
    "        p[i] = p[i] + [a]\n",
    "for i in p:\n",
    "    print(''.join(i))"
   ]
  },
  {
   "cell_type": "code",
   "execution_count": null,
   "metadata": {},
   "outputs": [],
   "source": [
    "3 3\n",
    "*??\n",
    "???\n",
    "?*?"
   ]
  },
  {
   "cell_type": "code",
   "execution_count": null,
   "metadata": {},
   "outputs": [
    {
     "name": "stdin",
     "output_type": "stream",
     "text": [
      " 6 3\n"
     ]
    },
    {
     "name": "stdout",
     "output_type": "stream",
     "text": [
      "4\n"
     ]
    }
   ],
   "source": [
    "n,m = input().split(); p = []; c = []\n",
    "n = int(n); m = int((float(m)*1.5)); d = {}; admit = 0; b = []\n",
    "for i in range(n):\n",
    "    x,y = input().split()\n",
    "    y = int(y)\n",
    "    d[y] = d.get(y,[]) + [x]\n",
    "    b = b + [y]\n",
    "b.sort(reverse=True)\n",
    "l = list(d.keys())\n",
    "l.sort(reverse=True)\n",
    "s = b[m]\n",
    "for i in b:\n",
    "    if i >= s:\n",
    "        admit = admit + 1\n",
    "print(str(s)+' '+str(admit))\n",
    "for i in l:\n",
    "    p = d[i]\n",
    "    p.sort()\n",
    "    d[i] = p\n",
    "for i in l:\n",
    "    if i >= s:\n",
    "        xxx = len(d[i])\n",
    "        for t in range(xxx):\n",
    "            print(d[i][t]+' '+str(i))"
   ]
  },
  {
   "cell_type": "code",
   "execution_count": 3,
   "metadata": {},
   "outputs": [
    {
     "name": "stdin",
     "output_type": "stream",
     "text": [
      " 6 3\n",
      " 1000 90\n",
      " 3239 88\n",
      " 2390 95\n",
      " 7231 84\n",
      " 1005 95\n",
      " 1001 88\n"
     ]
    },
    {
     "name": "stdout",
     "output_type": "stream",
     "text": [
      "88 5\n",
      "1005 95\n",
      "2390 95\n",
      "1000 90\n",
      "1001 88\n",
      "3239 88\n"
     ]
    }
   ],
   "source": [
    "n,m = input().split(); p = []\n",
    "n = int(n); m = int((float(m)*1.5)); d = {}; admit = 0; b = []\n",
    "for i in range(n):\n",
    "    x,y = input().split()\n",
    "    y = int(y)\n",
    "    d[y] = d.get(y,[]) + [x]\n",
    "    b = b + [y]\n",
    "b.sort(reverse=True)\n",
    "l = list(d.keys())\n",
    "l.sort(reverse=True)\n",
    "s = b[m-1]\n",
    "for i in b:\n",
    "    if i >= s:\n",
    "        admit = admit + 1\n",
    "print(str(s)+' '+str(admit))\n",
    "for i in l:\n",
    "    p = d[i]\n",
    "    p.sort()\n",
    "    d[i] = p\n",
    "for i in l:\n",
    "    if i >= s:\n",
    "        xxx = len(d[i])\n",
    "        for t in range(xxx):\n",
    "            print(d[i][t]+' '+str(i))"
   ]
  },
  {
   "cell_type": "code",
   "execution_count": null,
   "metadata": {},
   "outputs": [],
   "source": [
    "6 3\n",
    "1000 90\n",
    "3239 88\n",
    "2390 95\n",
    "7231 84\n",
    "1005 95\n",
    "1001 88"
   ]
  },
  {
   "cell_type": "code",
   "execution_count": null,
   "metadata": {},
   "outputs": [],
   "source": [
    "n = int(input())\n",
    "l = input().split()\n",
    "l = [int(i) for i in l]\n",
    "m = max(l)+1\n",
    "r = [0]*m\n",
    "for i in l:\n",
    "    r[i] = r[i] + 1\n",
    "for i in r:\n",
    "    print(i)"
   ]
  },
  {
   "cell_type": "code",
   "execution_count": null,
   "metadata": {},
   "outputs": [],
   "source": [
    "import copy\n",
    "m,n = input().split();l = []\n",
    "m = int(m);n = int(n)\n",
    "p = [[0]*m]*n\n",
    "print(p)\n",
    "for i in range(m):\n",
    "    l = l + [input().split()]\n",
    "for i in range(m):\n",
    "    for j in range(n):\n",
    "        p[i][j] = l[i][j]\n",
    "for i in range(1,m-1):\n",
    "    for j in range(1,n-1):\n",
    "        a = int(p[i-1][j])\n",
    "        a = a + int(p[i][j-1])\n",
    "        a = a + int(p[i][j+1])\n",
    "        a = a + int(p[i+1][j])\n",
    "        a = a + int(p[i][j])\n",
    "        print(a)\n",
    "        a = a*0.2\n",
    "        print(a)\n",
    "        if a % 1 < 0.5:\n",
    "            a = int(a)\n",
    "        else: a = int(a) + 1\n",
    "        l[i][j] = str(a)\n",
    "for i in l:\n",
    "    print(' '.join(i))"
   ]
  },
  {
   "cell_type": "code",
   "execution_count": null,
   "metadata": {},
   "outputs": [],
   "source": [
    "import copy\n",
    "m,n = input().split();l = []\n",
    "m = int(m);n = int(n)\n",
    "p = [[0]*m]*n\n",
    "print(p)\n",
    "for i in range(m):\n",
    "    l = l + [input().split()]\n",
    "for i in range(m):\n",
    "    for j in range(n):\n",
    "        p[i][j] = l[i][j]\n",
    "for i in range(1,m-1):\n",
    "    for j in range(1,n-1):\n",
    "        a = int(p[i-1][j])\n",
    "        a = a + int(p[i][j-1])\n",
    "        a = a + int(p[i][j+1])\n",
    "        a = a + int(p[i+1][j])\n",
    "        a = a + int(p[i][j])\n",
    "        print(a)\n",
    "        a = a*0.2\n",
    "        print(a)\n",
    "        if a % 1 < 0.5:\n",
    "            a = int(a)\n",
    "        else: a = int(a) + 1\n",
    "        l[i][j] = str(a)\n",
    "for i in l:\n",
    "    print(' '.join(i))\n"
   ]
  },
  {
   "cell_type": "code",
   "execution_count": 5,
   "metadata": {},
   "outputs": [
    {
     "name": "stdout",
     "output_type": "stream",
     "text": [
      "['1']\n"
     ]
    }
   ],
   "source": [
    "a = []\n",
    "a.insert(5,'1')\n",
    "print(a)"
   ]
  },
  {
   "cell_type": "code",
   "execution_count": 7,
   "metadata": {},
   "outputs": [
    {
     "name": "stdout",
     "output_type": "stream",
     "text": [
      "[[1, 2], [3, 4]] [[1, 2], [3, 0]]\n"
     ]
    }
   ],
   "source": [
    "import copy\n",
    "a = [[1,2],[3,4]]\n",
    "b = copy.deepcopy(a)\n",
    "b[1][1] = 0\n",
    "print(a,b)"
   ]
  },
  {
   "cell_type": "code",
   "execution_count": null,
   "metadata": {},
   "outputs": [],
   "source": []
  }
 ],
 "metadata": {
  "kernelspec": {
   "display_name": "Python 3",
   "language": "python",
   "name": "python3"
  },
  "language_info": {
   "codemirror_mode": {
    "name": "ipython",
    "version": 3
   },
   "file_extension": ".py",
   "mimetype": "text/x-python",
   "name": "python",
   "nbconvert_exporter": "python",
   "pygments_lexer": "ipython3",
   "version": "3.7.3"
  }
 },
 "nbformat": 4,
 "nbformat_minor": 4
}
